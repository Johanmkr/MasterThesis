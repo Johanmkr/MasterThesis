{
 "cells": [
  {
   "cell_type": "code",
   "execution_count": null,
   "metadata": {},
   "outputs": [],
   "source": [
    "import numpy as np\n",
    "import matplotlib.pyplot as plt\n",
    "import Pk_library as PKL\n",
    "from matplotlib.lines import Line2D\n",
    "import cube\n",
    "import plotPS as pps \n",
    "from figure import CustomFigure"
   ]
  },
  {
   "cell_type": "code",
   "execution_count": null,
   "metadata": {},
   "outputs": [],
   "source": [
    "boxsize = 5120 #Mpc\n",
    "ngrid = 256 #px\n",
    "resolution = boxsize/ngrid #Mpc/px\n",
    "k_nyquist = np.pi / resolution \n",
    "k_boxsize = 2*np.pi/boxsize\n",
    "\n",
    "datapath = \"/mn/stornext/d10/data/johanmkr/simulations/gevolution_first_runs/\"\n",
    "seed = 1234\n",
    "gr_v_path = datapath + f\"seed{seed:04d}/gr/gr_snap005_phi.h5\"\n",
    "newton_v_path = datapath + f\"seed{seed:04d}/newton/newton_snap005_phi.h5\"\n",
    "gr_cube = cube.Cube(gr_v_path)\n",
    "newton_cube = cube.Cube(newton_v_path)"
   ]
  },
  {
   "cell_type": "code",
   "execution_count": null,
   "metadata": {},
   "outputs": [],
   "source": [
    "# Bispectra analysis\n",
    "\n",
    "k1 = 1e-1 #h/Mpc\n",
    "k2 = 1e-1 #h/Mpc\n",
    "MAS = \"CIC\" \n",
    "threads = 64\n",
    "theta = np.linspace(0, np.pi,150) \n",
    "gr_data = gr_cube.data.astype(np.float32)\n",
    "newton_data = newton_cube.data.astype(np.float32)\n"
   ]
  },
  {
   "cell_type": "code",
   "execution_count": null,
   "metadata": {},
   "outputs": [],
   "source": [
    "# Compute spectra\n",
    "grBBk = PKL.Bk(gr_data, boxsize, k1, k2, theta, MAS, threads)\n",
    "newBBk = PKL.Bk(newton_data, boxsize, k1, k2, theta, MAS, threads)\n"
   ]
  },
  {
   "cell_type": "code",
   "execution_count": null,
   "metadata": {},
   "outputs": [],
   "source": [
    "# Quantities\n",
    "gBk = grBBk.B # Bispectrum\n",
    "gQk = grBBk.Q # Reduced bispectrum\n",
    "gPk = grBBk.Pk # Power spectrum\n",
    "gk = grBBk.k # k modes\n",
    "\n",
    "nBk = newBBk.B # Bispectrum\n",
    "nQk = newBBk.Q # Reduced bispectrum\n",
    "nPk = newBBk.Pk # Power spectrum\n",
    "nk = newBBk.k # k modes"
   ]
  },
  {
   "cell_type": "code",
   "execution_count": null,
   "metadata": {},
   "outputs": [],
   "source": [
    "theta"
   ]
  },
  {
   "cell_type": "code",
   "execution_count": null,
   "metadata": {},
   "outputs": [],
   "source": [
    "fig, ax = plt.subplots(figsize=(10,10))\n",
    "\n",
    "ax.semilogx(gk[1:-1], gPk[1:-1], label=\"GR\")\n",
    "ax.semilogx(nk[1:-1], nPk[1:-1], label=\"Newtonian\")\n",
    "ax.legend()\n",
    "ax.set_title(\"Power spectrum\")\n",
    "ax.set_xlabel(r\"$k$ [h/Mpc]\")\n",
    "ax.set_ylabel(r\"$P(k)$ [Mpc/h]$^3$\")\n"
   ]
  },
  {
   "cell_type": "code",
   "execution_count": null,
   "metadata": {},
   "outputs": [],
   "source": [
    "fig, ax = plt.subplots(figsize=(10,10))\n",
    "\n",
    "ax.semilogx(gk[1:-1], gBk, label=\"GR\")\n",
    "ax.semilogx(nk[1:-1], nBk, label=\"Newtonian\")\n",
    "ax.legend()\n",
    "ax.set_title(\"Bispectrum\")\n",
    "ax.set_xlabel(r\"$k$ [h/Mpc]\")\n",
    "ax.set_ylabel(r\"$B(k,k,k)$ [Mpc/h]$^3$\")"
   ]
  },
  {
   "cell_type": "code",
   "execution_count": null,
   "metadata": {},
   "outputs": [],
   "source": [
    "fig, ax = plt.subplots(figsize=(10,10))\n",
    "\n",
    "ratio = gBk/nBk\n",
    "ax.semilogx(gk[1:-1], ratio, label=\"GR/Newtonian\")\n",
    "ax.legend()\n",
    "ax.set_title(\"Bispectrum ratio\")\n",
    "ax.set_xlabel(r\"$k$ [h/Mpc]\")"
   ]
  },
  {
   "cell_type": "code",
   "execution_count": null,
   "metadata": {},
   "outputs": [],
   "source": [
    "fig, ax = plt.subplots(figsize=(10,10))\n",
    "\n",
    "ax.plot(theta, gBk, label=\"GR\")\n",
    "ax.plot(theta, nBk, label=\"Newtonian\")\n",
    "ax.legend()\n",
    "ax.set_title(\"Angular stuff\")\n",
    "ax.set_xlabel(r\"$\\theta$\")\n",
    "ax.set_ylabel(r\"$B(k,k,k)$\")\n"
   ]
  },
  {
   "cell_type": "code",
   "execution_count": null,
   "metadata": {},
   "outputs": [],
   "source": []
  }
 ],
 "metadata": {
  "kernelspec": {
   "display_name": "Python 3 (ipykernel)",
   "language": "python",
   "name": "python3"
  },
  "language_info": {
   "codemirror_mode": {
    "name": "ipython",
    "version": 3
   },
   "file_extension": ".py",
   "mimetype": "text/x-python",
   "name": "python",
   "nbconvert_exporter": "python",
   "pygments_lexer": "ipython3",
   "version": "3.10.12"
  },
  "orig_nbformat": 4
 },
 "nbformat": 4,
 "nbformat_minor": 2
}
