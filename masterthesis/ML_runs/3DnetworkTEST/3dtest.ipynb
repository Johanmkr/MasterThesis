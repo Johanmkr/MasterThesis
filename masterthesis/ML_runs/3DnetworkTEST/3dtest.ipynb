{
 "cells": [
  {
   "cell_type": "markdown",
   "metadata": {},
   "source": [
    "# Testing the 3D CNN - SLOTH"
   ]
  },
  {
   "cell_type": "markdown",
   "metadata": {},
   "source": [
    "Links to important scripts:\n",
    " * [SLOTH network](../../src/models/SLOTH.py)\n",
    " * [Trainer](../../src/models/train_model.py)\n",
    " * [Dataloader](../../src/data/whole_cube_dataset.py)"
   ]
  }
 ],
 "metadata": {
  "language_info": {
   "name": "python"
  }
 },
 "nbformat": 4,
 "nbformat_minor": 2
}
