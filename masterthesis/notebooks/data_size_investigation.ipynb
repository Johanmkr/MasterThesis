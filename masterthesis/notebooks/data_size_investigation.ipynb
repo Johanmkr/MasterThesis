{
 "cells": [
  {
   "cell_type": "markdown",
   "metadata": {},
   "source": [
    "# Investigating the size of the datasets\n",
    "\n",
    "This is necessary in order to figure out if the whole dataset fit on the GPU memory. "
   ]
  },
  {
   "cell_type": "code",
   "execution_count": 1,
   "metadata": {},
   "outputs": [],
   "source": [
    "import numpy as np\n",
    "import matplotlib.pyplot as plt\n",
    "import pandas as pd\n",
    "import os\n",
    "import sys\n",
    "\n",
    "\n",
    "# add path\n",
    "parent_dir = os.path.abspath(os.path.join(os.getcwd(), os.pardir))\n",
    "# parent_dir = os.path.dirname(os.path.realpath(__file__))\n",
    "sys.path.append(parent_dir)\n",
    "# parent_dir"
   ]
  },
  {
   "cell_type": "code",
   "execution_count": 2,
   "metadata": {},
   "outputs": [],
   "source": [
    "from src.data.sliced_cube_dataset import make_sliced_dataset\n",
    "from src.data.whole_cube_dataset import make_whole_dataset"
   ]
  },
  {
   "cell_type": "markdown",
   "metadata": {},
   "source": [
    "## Load entire dataset"
   ]
  },
  {
   "cell_type": "code",
   "execution_count": 3,
   "metadata": {},
   "outputs": [
    {
     "name": "stderr",
     "output_type": "stream",
     "text": [
      "100%|███████████████████████████████████████████████████████████████████████████████████████████████| 1200/1200 [00:50<00:00, 23.77it/s]\n",
      "100%|█████████████████████████████████████████████████████████████████████████████████████████████████| 400/400 [00:17<00:00, 23.09it/s]\n",
      "100%|█████████████████████████████████████████████████████████████████████████████████████████████████| 400/400 [00:17<00:00, 22.42it/s]\n"
     ]
    }
   ],
   "source": [
    "# Load the data into memory\n",
    "train_dataset, test_dataset, val_dataset = make_sliced_dataset(train_test_val_split = (0.6, 0.2, 0.2),\n",
    "    batch_size = 32,\n",
    "    num_workers = 4,\n",
    "    redshifts = 1.0,\n",
    "    total_seeds = np.arange(0, 1000, 1),\n",
    "    random_seed = 42,\n",
    "    prefetch_factor = 2,)"
   ]
  },
  {
   "cell_type": "code",
   "execution_count": 4,
   "metadata": {},
   "outputs": [
    {
     "name": "stdout",
     "output_type": "stream",
     "text": [
      "Making training dataset: 60% ...\n"
     ]
    },
    {
     "name": "stderr",
     "output_type": "stream",
     "text": [
      "100%|███████████████████████████████████████████████████████████████████████████████████████████████| 1200/1200 [09:41<00:00,  2.06it/s]\n"
     ]
    },
    {
     "name": "stdout",
     "output_type": "stream",
     "text": [
      "Making testing dataset: 20% ...\n"
     ]
    },
    {
     "name": "stderr",
     "output_type": "stream",
     "text": [
      "100%|█████████████████████████████████████████████████████████████████████████████████████████████████| 400/400 [03:53<00:00,  1.71it/s]\n"
     ]
    },
    {
     "name": "stdout",
     "output_type": "stream",
     "text": [
      "Making validation dataset: 20% ...\n"
     ]
    },
    {
     "name": "stderr",
     "output_type": "stream",
     "text": [
      "100%|█████████████████████████████████████████████████████████████████████████████████████████████████| 400/400 [04:06<00:00,  1.62it/s]\n"
     ]
    }
   ],
   "source": [
    "wtrain_dataset, wtest_dataset, wval_dataset = make_whole_dataset(\n",
    "    train_test_val_split = (0.6, 0.2, 0.2),\n",
    "    batch_size = 32,\n",
    "    num_workers = 4,\n",
    "    redshifts = 1.0,\n",
    "    total_seeds = np.arange(0, 1000, 1),\n",
    "    random_seed = 42,\n",
    "    prefetch_factor = 2,\n",
    ")"
   ]
  },
  {
   "cell_type": "markdown",
   "metadata": {},
   "source": [
    "## For sliced data"
   ]
  },
  {
   "cell_type": "markdown",
   "metadata": {},
   "source": [
    "### Number of GB per sample"
   ]
  },
  {
   "cell_type": "code",
   "execution_count": 5,
   "metadata": {},
   "outputs": [
    {
     "data": {
      "text/plain": [
       "{'image': tensor([[[ 0.1970,  0.2670,  0.2721,  ..., -0.3677, -0.2241, -0.0173],\n",
       "          [ 0.2979,  0.3097,  0.2938,  ..., -0.1604, -0.0313,  0.1539],\n",
       "          [ 0.2934,  0.2783,  0.2712,  ..., -0.0011,  0.0469,  0.1926],\n",
       "          ...,\n",
       "          [ 0.3091,  0.3403,  0.2597,  ..., -0.4060, -0.3275, -0.0361],\n",
       "          [ 0.2242,  0.2846,  0.2315,  ..., -0.5227, -0.3930, -0.0998],\n",
       "          [ 0.1562,  0.2483,  0.2395,  ..., -0.5058, -0.3734, -0.1292]]]),\n",
       " 'label': tensor([0.])}"
      ]
     },
     "execution_count": 5,
     "metadata": {},
     "output_type": "execute_result"
    }
   ],
   "source": [
    "ds = train_dataset.dataset\n",
    "ds_val = val_dataset.dataset\n",
    "ds_test = test_dataset.dataset\n",
    "ds[0]"
   ]
  },
  {
   "cell_type": "code",
   "execution_count": 6,
   "metadata": {},
   "outputs": [],
   "source": [
    "img = ds[0][\"image\"]\n",
    "lbl = ds[0][\"label\"]"
   ]
  },
  {
   "cell_type": "code",
   "execution_count": 7,
   "metadata": {},
   "outputs": [
    {
     "data": {
      "text/plain": [
       "4"
      ]
     },
     "execution_count": 7,
     "metadata": {},
     "output_type": "execute_result"
    }
   ],
   "source": [
    "img.element_size()"
   ]
  },
  {
   "cell_type": "code",
   "execution_count": 8,
   "metadata": {},
   "outputs": [
    {
     "data": {
      "text/plain": [
       "0.000262148"
      ]
     },
     "execution_count": 8,
     "metadata": {},
     "output_type": "execute_result"
    }
   ],
   "source": [
    "GB_per_sample = (img.nelement() * img.element_size() + lbl.nelement() * lbl.element_size())/ 1e9 # in GB\n",
    "GB_per_sample"
   ]
  },
  {
   "cell_type": "code",
   "execution_count": 9,
   "metadata": {},
   "outputs": [
    {
     "data": {
      "text/plain": [
       "0.000262148"
      ]
     },
     "execution_count": 9,
     "metadata": {},
     "output_type": "execute_result"
    }
   ],
   "source": [
    "# For sanity check\n",
    "img_test = ds_test[0][\"image\"]\n",
    "lbl_test = ds_test[0][\"label\"]\n",
    "GB_per_sample_test = (img_test.nelement() * img_test.element_size() + lbl_test.nelement() * lbl_test.element_size())/ 1e9 # in GB\n",
    "GB_per_sample_test"
   ]
  },
  {
   "cell_type": "markdown",
   "metadata": {},
   "source": [
    "### Number of samples"
   ]
  },
  {
   "cell_type": "code",
   "execution_count": 10,
   "metadata": {},
   "outputs": [
    {
     "data": {
      "text/plain": [
       "1536000"
      ]
     },
     "execution_count": 10,
     "metadata": {},
     "output_type": "execute_result"
    }
   ],
   "source": [
    "# Number of samples\n",
    "n_train_samples = len(ds)\n",
    "n_test_samples = len(ds_test)\n",
    "n_val_samples = len(ds_val)\n",
    "total_samples = n_train_samples + n_test_samples + n_val_samples\n",
    "total_samples"
   ]
  },
  {
   "cell_type": "markdown",
   "metadata": {},
   "source": [
    "### Total size of dataset (for each redshift)"
   ]
  },
  {
   "cell_type": "code",
   "execution_count": 11,
   "metadata": {},
   "outputs": [
    {
     "name": "stdout",
     "output_type": "stream",
     "text": [
      "Total size of the dataset: 402.659328 GB\n"
     ]
    }
   ],
   "source": [
    "# Total size of the dataset\n",
    "total_size = GB_per_sample * total_samples\n",
    "print(f\"Total size of the dataset: {total_size} GB\")"
   ]
  },
  {
   "cell_type": "markdown",
   "metadata": {},
   "source": [
    "## For whole data"
   ]
  },
  {
   "cell_type": "markdown",
   "metadata": {},
   "source": [
    "### Number of GB per sample"
   ]
  },
  {
   "cell_type": "code",
   "execution_count": 12,
   "metadata": {},
   "outputs": [
    {
     "data": {
      "text/plain": [
       "{'image': tensor([[[ 1.9703e-01,  2.6700e-01,  2.7213e-01,  ..., -3.6772e-01,\n",
       "           -2.2405e-01, -1.7319e-02],\n",
       "          [ 2.9788e-01,  3.0972e-01,  2.9384e-01,  ..., -1.6039e-01,\n",
       "           -3.1312e-02,  1.5389e-01],\n",
       "          [ 2.9336e-01,  2.7827e-01,  2.7116e-01,  ..., -1.1068e-03,\n",
       "            4.6882e-02,  1.9257e-01],\n",
       "          ...,\n",
       "          [ 3.0912e-01,  3.4028e-01,  2.5971e-01,  ..., -4.0599e-01,\n",
       "           -3.2754e-01, -3.6118e-02],\n",
       "          [ 2.2416e-01,  2.8464e-01,  2.3154e-01,  ..., -5.2271e-01,\n",
       "           -3.9304e-01, -9.9776e-02],\n",
       "          [ 1.5616e-01,  2.4832e-01,  2.3954e-01,  ..., -5.0583e-01,\n",
       "           -3.7336e-01, -1.2919e-01]],\n",
       " \n",
       "         [[ 1.7088e-01,  2.1625e-01,  2.8168e-01,  ..., -3.1048e-01,\n",
       "           -1.7747e-01, -5.4072e-03],\n",
       "          [ 2.0266e-01,  2.1738e-01,  2.6250e-01,  ..., -9.2962e-02,\n",
       "           -4.4450e-03,  1.0160e-01],\n",
       "          [ 1.7509e-01,  1.4940e-01,  1.9126e-01,  ...,  1.4148e-01,\n",
       "            1.3591e-01,  1.5712e-01],\n",
       "          ...,\n",
       "          [ 3.4687e-01,  3.6153e-01,  3.0063e-01,  ..., -3.0466e-01,\n",
       "           -1.9715e-01,  4.1480e-02],\n",
       "          [ 2.6625e-01,  2.8811e-01,  2.7427e-01,  ..., -4.1945e-01,\n",
       "           -2.6913e-01, -1.1559e-02],\n",
       "          [ 1.9448e-01,  2.3156e-01,  2.6847e-01,  ..., -4.0568e-01,\n",
       "           -2.6205e-01, -3.9326e-02]],\n",
       " \n",
       "         [[ 1.5973e-01,  1.8980e-01,  2.8210e-01,  ..., -1.4129e-01,\n",
       "           -8.0431e-02,  2.7235e-02],\n",
       "          [ 1.0645e-01,  1.4533e-01,  2.3743e-01,  ...,  2.9854e-02,\n",
       "            3.2525e-02,  3.9515e-02],\n",
       "          [ 5.5783e-02,  5.4605e-02,  1.3840e-01,  ...,  2.5575e-01,\n",
       "            1.8113e-01,  8.9947e-02],\n",
       "          ...,\n",
       "          [ 3.8327e-01,  3.8031e-01,  3.3607e-01,  ..., -1.6747e-01,\n",
       "           -2.6143e-02,  1.5754e-01],\n",
       "          [ 3.0919e-01,  2.9960e-01,  3.0583e-01,  ..., -2.3734e-01,\n",
       "           -8.5904e-02,  1.0910e-01],\n",
       "          [ 2.3765e-01,  2.3101e-01,  2.8053e-01,  ..., -2.0681e-01,\n",
       "           -9.2542e-02,  7.4405e-02]],\n",
       " \n",
       "         ...,\n",
       " \n",
       "         [[ 4.7808e-01,  4.6018e-01,  4.0266e-01,  ..., -3.3212e-02,\n",
       "            1.8511e-01,  4.0755e-01],\n",
       "          [ 5.1628e-01,  4.5541e-01,  3.9556e-01,  ...,  2.8708e-02,\n",
       "            2.5900e-01,  4.7949e-01],\n",
       "          [ 4.8775e-01,  3.9473e-01,  3.5286e-01,  ...,  9.5980e-02,\n",
       "            2.8367e-01,  4.8434e-01],\n",
       "          ...,\n",
       "          [ 5.4270e-01,  4.9882e-01,  4.2380e-01,  ...,  8.7517e-02,\n",
       "            2.6695e-01,  4.5982e-01],\n",
       "          [ 4.7661e-01,  4.6164e-01,  4.0125e-01,  ...,  2.5431e-03,\n",
       "            1.9008e-01,  3.9234e-01],\n",
       "          [ 4.1839e-01,  4.2738e-01,  3.8552e-01,  ..., -7.9149e-02,\n",
       "            1.2041e-01,  3.3415e-01]],\n",
       " \n",
       "         [[ 3.0118e-01,  3.3313e-01,  2.6622e-01,  ..., -2.1755e-01,\n",
       "           -7.1965e-02,  1.5251e-01],\n",
       "          [ 4.0894e-01,  3.6415e-01,  2.9743e-01,  ..., -8.0232e-02,\n",
       "            9.8874e-02,  3.2360e-01],\n",
       "          [ 4.1105e-01,  3.1966e-01,  2.7780e-01,  ..., -5.5896e-03,\n",
       "            1.4271e-01,  3.6197e-01],\n",
       "          ...,\n",
       "          [ 3.9587e-01,  3.8812e-01,  2.9547e-01,  ..., -1.9843e-01,\n",
       "           -4.6447e-02,  2.1095e-01],\n",
       "          [ 3.0879e-01,  3.4839e-01,  2.5839e-01,  ..., -3.0087e-01,\n",
       "           -1.5861e-01,  1.0339e-01],\n",
       "          [ 2.2268e-01,  3.0569e-01,  2.4526e-01,  ..., -3.5285e-01,\n",
       "           -2.2502e-01,  1.6888e-02]],\n",
       " \n",
       "         [[ 2.1315e-01,  2.7695e-01,  2.2576e-01,  ..., -2.9339e-01,\n",
       "           -1.8971e-01,  9.6540e-03],\n",
       "          [ 3.4530e-01,  3.3023e-01,  2.6853e-01,  ..., -1.2848e-01,\n",
       "            1.1807e-04,  2.0985e-01],\n",
       "          [ 3.5491e-01,  3.0358e-01,  2.6043e-01,  ..., -5.4581e-02,\n",
       "            3.4775e-02,  2.4813e-01],\n",
       "          ...,\n",
       "          [ 3.0294e-01,  3.1256e-01,  2.0142e-01,  ..., -3.6787e-01,\n",
       "           -2.7096e-01,  1.8180e-02],\n",
       "          [ 2.1252e-01,  2.7172e-01,  1.7346e-01,  ..., -4.5868e-01,\n",
       "           -3.4900e-01, -7.4385e-02],\n",
       "          [ 1.3663e-01,  2.4437e-01,  1.8766e-01,  ..., -4.5219e-01,\n",
       "           -3.5960e-01, -1.3502e-01]]]),\n",
       " 'label': tensor([0.])}"
      ]
     },
     "execution_count": 12,
     "metadata": {},
     "output_type": "execute_result"
    }
   ],
   "source": [
    "wds = wtrain_dataset.dataset\n",
    "wds_val = wval_dataset.dataset\n",
    "wds_test = wtest_dataset.dataset\n",
    "wds[0]"
   ]
  },
  {
   "cell_type": "code",
   "execution_count": 13,
   "metadata": {},
   "outputs": [],
   "source": [
    "wimg = wds[0][\"image\"]\n",
    "wlbl = wds[0][\"label\"]"
   ]
  },
  {
   "cell_type": "code",
   "execution_count": 14,
   "metadata": {},
   "outputs": [
    {
     "data": {
      "text/plain": [
       "4"
      ]
     },
     "execution_count": 14,
     "metadata": {},
     "output_type": "execute_result"
    }
   ],
   "source": [
    "wimg.element_size()"
   ]
  },
  {
   "cell_type": "code",
   "execution_count": 15,
   "metadata": {},
   "outputs": [
    {
     "data": {
      "text/plain": [
       "16777216"
      ]
     },
     "execution_count": 15,
     "metadata": {},
     "output_type": "execute_result"
    }
   ],
   "source": [
    "wimg.nelement()"
   ]
  },
  {
   "cell_type": "code",
   "execution_count": 16,
   "metadata": {},
   "outputs": [
    {
     "data": {
      "text/plain": [
       "0.067108868"
      ]
     },
     "execution_count": 16,
     "metadata": {},
     "output_type": "execute_result"
    }
   ],
   "source": [
    "wGB_per_sample = (wimg.nelement() * wimg.element_size() + wlbl.nelement() * wlbl.element_size())/ 1e9 # in GB\n",
    "wGB_per_sample"
   ]
  },
  {
   "cell_type": "markdown",
   "metadata": {},
   "source": [
    "### Number of samples"
   ]
  },
  {
   "cell_type": "code",
   "execution_count": 17,
   "metadata": {},
   "outputs": [
    {
     "data": {
      "text/plain": [
       "2000"
      ]
     },
     "execution_count": 17,
     "metadata": {},
     "output_type": "execute_result"
    }
   ],
   "source": [
    "# Number of samples\n",
    "wn_train_samples = len(wds)\n",
    "wn_test_samples = len(wds_test)\n",
    "wn_val_samples = len(wds_val)\n",
    "wtotal_samples = wn_train_samples + wn_test_samples + wn_val_samples\n",
    "wtotal_samples"
   ]
  },
  {
   "cell_type": "markdown",
   "metadata": {},
   "source": [
    "### Total size of dataset (for each redshift)"
   ]
  },
  {
   "cell_type": "code",
   "execution_count": 18,
   "metadata": {},
   "outputs": [
    {
     "name": "stdout",
     "output_type": "stream",
     "text": [
      "Total size of the dataset: 134.217736 GB\n"
     ]
    }
   ],
   "source": [
    "# Total size of the dataset\n",
    "wtotal_size = wGB_per_sample * wtotal_samples\n",
    "print(f\"Total size of the dataset: {wtotal_size} GB\")"
   ]
  }
 ],
 "metadata": {
  "kernelspec": {
   "display_name": "Python 3 (ipykernel)",
   "language": "python",
   "name": "python3"
  },
  "language_info": {
   "codemirror_mode": {
    "name": "ipython",
    "version": 3
   },
   "file_extension": ".py",
   "mimetype": "text/x-python",
   "name": "python",
   "nbconvert_exporter": "python",
   "pygments_lexer": "ipython3",
   "version": "3.11.6"
  }
 },
 "nbformat": 4,
 "nbformat_minor": 2
}
