{
 "cells": [
  {
   "cell_type": "code",
   "execution_count": 175,
   "metadata": {},
   "outputs": [],
   "source": [
    "import os\n",
    "import sys\n",
    "import numpy as np \n",
    "import pandas as pd \n",
    "import matplotlib.pyplot as plt \n",
    "\n",
    "# add path\n",
    "parent_dir = os.path.abspath(os.path.join(os.getcwd(), os.pardir))\n",
    "# parent_dir = os.path.dirname(os.path.realpath(__file__))\n",
    "sys.path.append(parent_dir)\n",
    "# parent_dir\n",
    "\n",
    "from src.utils import paths\n",
    "from src.features import bispectrum\n",
    "from src.features import powerspectra\n"
   ]
  },
  {
   "cell_type": "code",
   "execution_count": 176,
   "metadata": {},
   "outputs": [],
   "source": [
    "seed = 50\n",
    "redshift = 5"
   ]
  },
  {
   "cell_type": "code",
   "execution_count": 177,
   "metadata": {},
   "outputs": [
    {
     "data": {
      "text/plain": [
       "PosixPath('/mn/stornext/d10/data/johanmkr/simulations/data_analysis/pre_computed_bispectra_bank/seed0050_gr_equilateral_rs0005.csv')"
      ]
     },
     "execution_count": 177,
     "metadata": {},
     "output_type": "execute_result"
    }
   ],
   "source": [
    "filename = paths.get_pre_computed_bispectra_from_bank(seed, \"gr\", redshift, type=\"equilateral\")\n",
    "filename"
   ]
  },
  {
   "cell_type": "code",
   "execution_count": 178,
   "metadata": {},
   "outputs": [
    {
     "data": {
      "text/html": [
       "<div>\n",
       "<style scoped>\n",
       "    .dataframe tbody tr th:only-of-type {\n",
       "        vertical-align: middle;\n",
       "    }\n",
       "\n",
       "    .dataframe tbody tr th {\n",
       "        vertical-align: top;\n",
       "    }\n",
       "\n",
       "    .dataframe thead th {\n",
       "        text-align: right;\n",
       "    }\n",
       "</style>\n",
       "<table border=\"1\" class=\"dataframe\">\n",
       "  <thead>\n",
       "    <tr style=\"text-align: right;\">\n",
       "      <th></th>\n",
       "      <th>Unnamed: 0</th>\n",
       "      <th>k</th>\n",
       "      <th>B</th>\n",
       "      <th>Q</th>\n",
       "    </tr>\n",
       "  </thead>\n",
       "  <tbody>\n",
       "    <tr>\n",
       "      <th>0</th>\n",
       "      <td>0</td>\n",
       "      <td>0.001227</td>\n",
       "      <td>-182758.014291</td>\n",
       "      <td>-9054.912783</td>\n",
       "    </tr>\n",
       "    <tr>\n",
       "      <th>1</th>\n",
       "      <td>1</td>\n",
       "      <td>0.001230</td>\n",
       "      <td>-167098.043610</td>\n",
       "      <td>-9855.823277</td>\n",
       "    </tr>\n",
       "    <tr>\n",
       "      <th>2</th>\n",
       "      <td>2</td>\n",
       "      <td>0.001232</td>\n",
       "      <td>-167098.043610</td>\n",
       "      <td>-9855.823277</td>\n",
       "    </tr>\n",
       "    <tr>\n",
       "      <th>3</th>\n",
       "      <td>3</td>\n",
       "      <td>0.001235</td>\n",
       "      <td>-167098.043610</td>\n",
       "      <td>-9855.823277</td>\n",
       "    </tr>\n",
       "    <tr>\n",
       "      <th>4</th>\n",
       "      <td>4</td>\n",
       "      <td>0.001238</td>\n",
       "      <td>-167098.043610</td>\n",
       "      <td>-9855.823277</td>\n",
       "    </tr>\n",
       "  </tbody>\n",
       "</table>\n",
       "</div>"
      ],
      "text/plain": [
       "   Unnamed: 0         k              B            Q\n",
       "0           0  0.001227 -182758.014291 -9054.912783\n",
       "1           1  0.001230 -167098.043610 -9855.823277\n",
       "2           2  0.001232 -167098.043610 -9855.823277\n",
       "3           3  0.001235 -167098.043610 -9855.823277\n",
       "4           4  0.001238 -167098.043610 -9855.823277"
      ]
     },
     "execution_count": 178,
     "metadata": {},
     "output_type": "execute_result"
    }
   ],
   "source": [
    "grdF = pd.read_csv(paths.get_pre_computed_bispectra_from_bank(seed, \"gr\", redshift, type=\"equilateral\"))\n",
    "newtondF = pd.read_csv(paths.get_pre_computed_bispectra_from_bank(seed, \"newton\", redshift, type=\"equilateral\"))\n",
    "grdF.head()"
   ]
  },
  {
   "cell_type": "code",
   "execution_count": 179,
   "metadata": {},
   "outputs": [
    {
     "data": {
      "image/png": "[encoded data removed]",
      "text/plain": [
       "<Figure size 432x288 with 1 Axes>"
      ]
     },
     "metadata": {
      "needs_background": "light"
     },
     "output_type": "display_data"
    }
   ],
   "source": [
    "def plot_stuff(grdF, newtondF):\n",
    "    plt.loglog(grdF[\"k\"], abs(grdF[\"B\"]), label=\"GR\")\n",
    "    plt.loglog(newtondF[\"k\"], abs(newtondF[\"B\"]), label=\"Newton\")\n",
    "    # plt.loglog(grdF[\"k\"], grdF[\"B\"], label=\"GR\")\n",
    "    # plt.loglog(newtondF[\"k\"], newtondF[\"B\"], label=\"Newton\")\n",
    "    plt.legend()\n",
    "    plt.show()\n",
    "\n",
    "plot_stuff(grdF, newtondF)"
   ]
  },
  {
   "cell_type": "code",
   "execution_count": 180,
   "metadata": {},
   "outputs": [],
   "source": [
    "# Naive rebinning\n",
    "\n",
    "def naive_rebinning(frame:pd.DataFrame, bin_stride:int=5):\n",
    "    \"\"\"Rebin the bispectrum by averaging the values in each bin\"\"\"\n",
    "    k = frame[\"k\"]\n",
    "    B = frame[\"B\"]\n",
    "    k_rebinned = []\n",
    "    B_rebinned = []\n",
    "    i = 0\n",
    "    while i < len(k):\n",
    "        k_rebinned.append(k[i+bin_stride//2]) # Is this correct?\n",
    "        B_rebinned.append(np.mean(B[i:i+bin_stride]))\n",
    "        i += bin_stride\n",
    "    return pd.DataFrame({\"k\":k_rebinned, \"B\":B_rebinned})\n"
   ]
  },
  {
   "cell_type": "code",
   "execution_count": 181,
   "metadata": {},
   "outputs": [
    {
     "data": {
      "image/png": "[encoded data removed]",
      "text/plain": [
       "<Figure size 432x288 with 1 Axes>"
      ]
     },
     "metadata": {
      "needs_background": "light"
     },
     "output_type": "display_data"
    },
    {
     "data": {
      "text/html": [
       "<div>\n",
       "<style scoped>\n",
       "    .dataframe tbody tr th:only-of-type {\n",
       "        vertical-align: middle;\n",
       "    }\n",
       "\n",
       "    .dataframe tbody tr th {\n",
       "        vertical-align: top;\n",
       "    }\n",
       "\n",
       "    .dataframe thead th {\n",
       "        text-align: right;\n",
       "    }\n",
       "</style>\n",
       "<table border=\"1\" class=\"dataframe\">\n",
       "  <thead>\n",
       "    <tr style=\"text-align: right;\">\n",
       "      <th></th>\n",
       "      <th>k</th>\n",
       "      <th>B</th>\n",
       "    </tr>\n",
       "  </thead>\n",
       "  <tbody>\n",
       "    <tr>\n",
       "      <th>0</th>\n",
       "      <td>0.001245</td>\n",
       "      <td>-163873.127237</td>\n",
       "    </tr>\n",
       "    <tr>\n",
       "      <th>1</th>\n",
       "      <td>0.001285</td>\n",
       "      <td>-145753.471519</td>\n",
       "    </tr>\n",
       "    <tr>\n",
       "      <th>2</th>\n",
       "      <td>0.001326</td>\n",
       "      <td>-145753.471519</td>\n",
       "    </tr>\n",
       "    <tr>\n",
       "      <th>3</th>\n",
       "      <td>0.001369</td>\n",
       "      <td>-145753.471519</td>\n",
       "    </tr>\n",
       "    <tr>\n",
       "      <th>4</th>\n",
       "      <td>0.001413</td>\n",
       "      <td>-145753.471519</td>\n",
       "    </tr>\n",
       "    <tr>\n",
       "      <th>...</th>\n",
       "      <td>...</td>\n",
       "      <td>...</td>\n",
       "    </tr>\n",
       "    <tr>\n",
       "      <th>62</th>\n",
       "      <td>0.008779</td>\n",
       "      <td>-0.643383</td>\n",
       "    </tr>\n",
       "    <tr>\n",
       "      <th>63</th>\n",
       "      <td>0.009060</td>\n",
       "      <td>-0.423006</td>\n",
       "    </tr>\n",
       "    <tr>\n",
       "      <th>64</th>\n",
       "      <td>0.009350</td>\n",
       "      <td>-0.744647</td>\n",
       "    </tr>\n",
       "    <tr>\n",
       "      <th>65</th>\n",
       "      <td>0.009649</td>\n",
       "      <td>-0.328155</td>\n",
       "    </tr>\n",
       "    <tr>\n",
       "      <th>66</th>\n",
       "      <td>0.009958</td>\n",
       "      <td>-0.444206</td>\n",
       "    </tr>\n",
       "  </tbody>\n",
       "</table>\n",
       "<p>67 rows × 2 columns</p>\n",
       "</div>"
      ],
      "text/plain": [
       "           k              B\n",
       "0   0.001245 -163873.127237\n",
       "1   0.001285 -145753.471519\n",
       "2   0.001326 -145753.471519\n",
       "3   0.001369 -145753.471519\n",
       "4   0.001413 -145753.471519\n",
       "..       ...            ...\n",
       "62  0.008779      -0.643383\n",
       "63  0.009060      -0.423006\n",
       "64  0.009350      -0.744647\n",
       "65  0.009649      -0.328155\n",
       "66  0.009958      -0.444206\n",
       "\n",
       "[67 rows x 2 columns]"
      ]
     },
     "execution_count": 181,
     "metadata": {},
     "output_type": "execute_result"
    }
   ],
   "source": [
    "first_bin_stride = 15\n",
    "once_rebinned_grdF = naive_rebinning(grdF, bin_stride=first_bin_stride)\n",
    "once_rebinned_newtondF = naive_rebinning(newtondF, bin_stride=first_bin_stride)\n",
    "\n",
    "plot_stuff(once_rebinned_grdF, once_rebinned_newtondF)\n",
    "once_rebinned_grdF"
   ]
  },
  {
   "cell_type": "code",
   "execution_count": 182,
   "metadata": {},
   "outputs": [],
   "source": [
    "# second_bin_stride = 5\n",
    "# twice_rebinned_grdF = naive_rebinning(once_rebinned_grdF, bin_stride=second_bin_stride)\n",
    "# twice_rebinned_newtondF = naive_rebinning(once_rebinned_newtondF, bin_stride=second_bin_stride)\n",
    "\n",
    "# plot_stuff(twice_rebinned_grdF, twice_rebinned_newtondF)"
   ]
  },
  {
   "cell_type": "code",
   "execution_count": 183,
   "metadata": {},
   "outputs": [],
   "source": [
    "# thirds_bin_stride = 5\n",
    "# thrice_rebinned_grdF = naive_rebinning(twice_rebinned_grdF, bin_stride=thirds_bin_stride)\n",
    "# thrice_rebinned_newtondF = naive_rebinning(twice_rebinned_newtondF, bin_stride=thirds_bin_stride)\n",
    "\n",
    "# plot_stuff(thrice_rebinned_grdF, thrice_rebinned_newtondF)"
   ]
  },
  {
   "cell_type": "markdown",
   "metadata": {},
   "source": [
    "# Analytical approach - three level PT\n",
    "\n",
    "\n",
    "$$\n",
    "    F_2(\\mathbf{k}_1,\\mathbf{k}_2) = \\frac{5}{7} + \\frac{x}{2}\\left(\\frac{k_1}{k_2}+\\frac{k_2}{k_1}\\right)+\\frac{2}{7}x^2,\n",
    "$$\n",
    "with $x=\\hat{\\mathbf{k}}_1\\cdot\\hat{\\mathbf{k}}_2 = \\cos\\theta$, where $\\theta$ is the angle spanned by $\\mathbf{k}_1$ and $\\mathbf{k}_2$."
   ]
  },
  {
   "cell_type": "code",
   "execution_count": 184,
   "metadata": {},
   "outputs": [],
   "source": [
    "def F2_kernel(k1, k2, angle):\n",
    "    return 5./7 + 1./2 * (k1/k2 + k2/k1) * np.cos(angle) + 2./7 * (np.cos(angle))**2\n",
    "\n",
    "def full_F2_output(k, theta_12):\n",
    "    \"\"\"The F2 kernel for equilatera and squeezed triangles where k1=k2\"\"\"\n",
    "    alpha = np.pi - theta_12\n",
    "    k1 = k\n",
    "    k2 = k\n",
    "    k3 = np.sqrt(k1**2 + k2**2 - 2*k1*k2*np.cos(alpha))\n",
    "    \n",
    "    # Find beta and gamma\n",
    "    beta = np.arcsin(k1/k3 * np.sin(alpha))\n",
    "    gamma = np.arcsin(k2/k3 * np.sin(alpha))\n",
    "    \n",
    "    # Check that the angles add up to pi\n",
    "    assert np.isclose(beta + gamma + alpha, np.pi)\n",
    "    \n",
    "    # Find remaining thetas\n",
    "    theta_23 = np.pi - beta \n",
    "    theta_13 = np.pi - gamma\n",
    "    \n",
    "    # Permutations\n",
    "    F12 = F2_kernel(k1, k2, theta_12)\n",
    "    F23 = F2_kernel(k2, k3, theta_23)\n",
    "    F31 = F2_kernel(k3, k1, theta_13)\n",
    "    \n",
    "    return F12, F23, F31, k3\n",
    "    "
   ]
  },
  {
   "cell_type": "code",
   "execution_count": 185,
   "metadata": {},
   "outputs": [],
   "source": [
    "grPS = powerspectra.PowerSpectra(paths.get_power_spectra_path(seed, \"gr\"))\n",
    "newtonPS = powerspectra.PowerSpectra(paths.get_power_spectra_path(seed, \"newton\"))"
   ]
  },
  {
   "cell_type": "code",
   "execution_count": 186,
   "metadata": {},
   "outputs": [],
   "source": [
    "# Spline spectra: \n",
    "from scipy import interpolate\n",
    "\n",
    "def Splined_PS(PS, kind=\"cubic\", **kwargs):\n",
    "    \"\"\"Returns a spline interpolation of the power spectra\"\"\"\n",
    "    f = interpolate.interp1d(PS.k, PS.pk, kind=kind, **kwargs)\n",
    "    return f\n",
    "\n",
    "grPS_spline = Splined_PS(PS=grPS.get_power_spectrum(\"phi\", redshift), bounds_error=False, fill_value =\"extrapolate\")\n",
    "newtonPS_spline = Splined_PS(PS=newtonPS.get_power_spectrum(\"phi\", redshift), bounds_error=False, fill_value =\"extrapolate\")"
   ]
  },
  {
   "cell_type": "code",
   "execution_count": 187,
   "metadata": {},
   "outputs": [],
   "source": [
    "def analytical_equilateral_bispectrum():\n",
    "    k_range = np.geomspace(1e-3, 1e-2, 100)\n",
    "    B_analytical = []\n",
    "    for k in k_range:\n",
    "        F12, F23, F31, k3 = full_F2_output(k, 2*np.pi/3)\n",
    "        B_value = 2 * F12 * grPS_spline(k) * grPS_spline(k) + 2*F23 * grPS_spline(k) * grPS_spline(k3) + 2*F31 * grPS_spline(k) * grPS_spline(k3)\n",
    "        B_analytical.append(B_value)\n",
    "    return k_range, B_analytical\n",
    "\n",
    "def analytical_equilateral_bispectrum():\n",
    "    k_range = np.geomspace(1e-3, 1e-2, 100)\n",
    "    B_analytical = []\n",
    "    for k in k_range:\n",
    "        F12, F23, F31, k3 = full_F2_output(k, 2*np.pi/3)\n",
    "        B_value = 2 * F12 * grPS_spline(k) * grPS_spline(k) + 2*F23 * grPS_spline(k) * grPS_spline(k3) + 2*F31 * grPS_spline(k) * grPS_spline(k3)\n",
    "        B_analytical.append(B_value)\n",
    "    return k_range, B_analytical"
   ]
  },
  {
   "cell_type": "code",
   "execution_count": 188,
   "metadata": {},
   "outputs": [
    {
     "data": {
      "image/png": "[encoded data removed]",
      "text/plain": [
       "<Figure size 432x288 with 1 Axes>"
      ]
     },
     "metadata": {
      "needs_background": "light"
     },
     "output_type": "display_data"
    }
   ],
   "source": [
    "\n",
    "plt.loglog(once_rebinned_grdF[\"k\"], abs(once_rebinned_grdF[\"B\"]), label=\"GR\")\n",
    "plt.loglog(once_rebinned_newtondF[\"k\"], abs(once_rebinned_newtondF[\"B\"]), label=\"Newton\")\n",
    "plt.loglog(*analytical_equilateral_bispectrum(), label=\"Analytical\")\n",
    "# plt.loglog(grdF[\"k\"], grdF[\"B\"], label=\"GR\")\n",
    "# plt.loglog(newtondF[\"k\"], newtondF[\"B\"], label=\"Newton\")\n",
    "plt.legend()\n",
    "plt.show()"
   ]
  }
 ],
 "metadata": {
  "kernelspec": {
   "display_name": "Python 3 (ipykernel)",
   "language": "python",
   "name": "python3"
  },
  "language_info": {
   "codemirror_mode": {
    "name": "ipython",
    "version": 3
   },
   "file_extension": ".py",
   "mimetype": "text/x-python",
   "name": "python",
   "nbconvert_exporter": "python",
   "pygments_lexer": "ipython3",
   "version": "3.10.12"
  }
 },
 "nbformat": 4,
 "nbformat_minor": 2
}
