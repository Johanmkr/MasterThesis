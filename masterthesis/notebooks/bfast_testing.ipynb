{
 "cells": [
  {
   "cell_type": "code",
   "execution_count": 1,
   "metadata": {},
   "outputs": [],
   "source": [
    "import os\n",
    "import sys\n",
    "\n",
    "os.environ[\"CUDA_VISIBLE_DEVICES\"] = \"1\"\n",
    "\n",
    "\n",
    "\n",
    "# add path\n",
    "parent_dir = os.path.abspath(os.path.join(os.getcwd(), os.pardir))\n",
    "# parent_dir = os.path.dirname(os.path.realpath(__file__))\n",
    "sys.path.append(parent_dir)\n",
    "# parent_dir\n",
    "\n",
    "from src.utils import paths\n",
    "\n",
    "BFast_dir = paths.BFast_path\n",
    "\n",
    "sys.path.append(os.path.abspath(str(BFast_dir)))\n",
    "\n"
   ]
  },
  {
   "cell_type": "code",
   "execution_count": 2,
   "metadata": {},
   "outputs": [
    {
     "data": {
      "text/plain": [
       "PosixPath('/uio/hume/student-u00/johanmkr/Documents/BFast')"
      ]
     },
     "execution_count": 2,
     "metadata": {},
     "output_type": "execute_result"
    }
   ],
   "source": [
    "BFast_dir"
   ]
  },
  {
   "cell_type": "code",
   "execution_count": 3,
   "metadata": {},
   "outputs": [
    {
     "name": "stderr",
     "output_type": "stream",
     "text": [
      "/uio/hume/student-u00/johanmkr/.local/lib/python3.10/site-packages/tqdm/auto.py:21: TqdmWarning: IProgress not found. Please update jupyter and ipywidgets. See https://ipywidgets.readthedocs.io/en/stable/user_install.html\n",
      "  from .autonotebook import tqdm as notebook_tqdm\n"
     ]
    }
   ],
   "source": [
    "import BFast"
   ]
  },
  {
   "cell_type": "code",
   "execution_count": 4,
   "metadata": {},
   "outputs": [
    {
     "name": "stdout",
     "output_type": "stream",
     "text": [
      "Tesla P100-PCIE-16GB\n",
      "Tesla P100-PCIE-16GB\n"
     ]
    }
   ],
   "source": [
    "\n",
    "import matplotlib.pyplot as plt\n",
    "import numpy as np\n",
    "import matplotlib\n",
    "\n",
    "%matplotlib inline\n",
    "plt.rcParams.update({'font.size': 16})\n",
    "\n",
    "!nvidia-smi --query-gpu=gpu_name --format=csv,noheader"
   ]
  },
  {
   "cell_type": "code",
   "execution_count": 5,
   "metadata": {},
   "outputs": [],
   "source": [
    "from src.data import cube"
   ]
  },
  {
   "cell_type": "code",
   "execution_count": 6,
   "metadata": {},
   "outputs": [],
   "source": [
    "\n",
    "c = cube.Cube(paths.get_cube_path(seed=1234, gravity=\"gr\", redshift=1))"
   ]
  },
  {
   "cell_type": "code",
   "execution_count": 7,
   "metadata": {},
   "outputs": [],
   "source": [
    "data = c.data"
   ]
  },
  {
   "cell_type": "code",
   "execution_count": 8,
   "metadata": {},
   "outputs": [
    {
     "name": "stdout",
     "output_type": "stream",
     "text": [
      "Help on function Bk_fast in module BFast.BFast:\n",
      "\n",
      "Bk_fast(delta, BoxSize, fc, dk, Nbins, triangle_type='All', MAS=None, verbose=False)\n",
      "    Computes binned bispectrum of field for given binning and triangles\n",
      "    \n",
      "    Parameters:\n",
      "    -----------\n",
      "    fc: float\n",
      "        Center of first bin in units of the fundamental mode.\n",
      "    dk: float\n",
      "        Width of the bin in units of the fundamental mode.\n",
      "    Nbins: int\n",
      "        Total number of momentum bins such that bins are given by kf*[(fc + i)±dk/2 for i in range(Nbins)].\n",
      "    triangle_type: str, optional (default='All')\n",
      "        Type of triangles to include in the bispectrum calculation. \n",
      "        Options: 'All' (include all shapes of triangles),\n",
      "                 'Squeezed' (only triangles k_1 > k_2 = k_3), \n",
      "                 'Equilateral' (include only triangles k_1 = k_2 = k_3).\n",
      "    MAS: str, optional (default=None)\n",
      "        Mass Assignment Scheme to compensate for (options are NGP,CIC,TSC,PCS)\n",
      "    verbose: bool, optional (default=False)\n",
      "        If True, print progress statements.\n",
      "    \n",
      "    Returns:\n",
      "    --------\n",
      "    result: numpy.ndarray\n",
      "        An array of shape (len(counts['bin_centers']),8) containing the bispectrum and related information.\n",
      "        The columns contain: bin centers, P(k1), P(k2), P(k3), B(k1,k2,k3), counts_B.\n",
      "        \n",
      "    Notes:\n",
      "    --------\n",
      "    The first time the computation for a certain binning is being done, \n",
      "    this function will first compute the necessary mode counts for power spectrum and bispectrum normalization. \n",
      "    This is saved in a file in the local directory for later use, when measuring from other density fields but with the same binning.\n",
      "\n"
     ]
    }
   ],
   "source": [
    "help(BFast.Bk_fast)"
   ]
  },
  {
   "cell_type": "code",
   "execution_count": 9,
   "metadata": {},
   "outputs": [
    {
     "name": "stderr",
     "output_type": "stream",
     "text": [
      "An NVIDIA GPU may be present on this machine, but a CUDA-enabled jaxlib is not installed. Falling back to cpu.\n"
     ]
    },
    {
     "name": "stdout",
     "output_type": "stream",
     "text": [
      "No counts file found, computing this first!\n",
      "Considering 2276 Triangle Configurations (All)\n",
      "Saved Triangle Counts to BFast_BkCounts_LBox5120.00_Grid256_Binning3.00kF_fc3.00_NBins27_TriangleTypeAll.npy\n"
     ]
    },
    {
     "ename": "OverflowError",
     "evalue": "An overflow was encountered while parsing an argument to a jitted computation, whose argument path is x2.",
     "output_type": "error",
     "traceback": [
      "\u001b[0;31m---------------------------------------------------------------------------\u001b[0m",
      "\u001b[0;31mKeyError\u001b[0m                                  Traceback (most recent call last)",
      "File \u001b[0;32m~/.local/lib/python3.10/site-packages/jax/_src/api_util.py:583\u001b[0m, in \u001b[0;36mshaped_abstractify\u001b[0;34m(x)\u001b[0m\n\u001b[1;32m    582\u001b[0m \u001b[39mtry\u001b[39;00m:\n\u001b[0;32m--> 583\u001b[0m   \u001b[39mreturn\u001b[39;00m _shaped_abstractify_handlers[\u001b[39mtype\u001b[39;49m(x)](x)\n\u001b[1;32m    584\u001b[0m \u001b[39mexcept\u001b[39;00m \u001b[39mKeyError\u001b[39;00m:\n",
      "\u001b[0;31mKeyError\u001b[0m: <class 'int'>",
      "\nDuring handling of the above exception, another exception occurred:\n",
      "\u001b[0;31mOverflowError\u001b[0m                             Traceback (most recent call last)",
      "    \u001b[0;31m[... skipping hidden 1 frame]\u001b[0m\n",
      "File \u001b[0;32m~/.local/lib/python3.10/site-packages/jax/_src/api_util.py:585\u001b[0m, in \u001b[0;36mshaped_abstractify\u001b[0;34m(x)\u001b[0m\n\u001b[1;32m    584\u001b[0m \u001b[39mexcept\u001b[39;00m \u001b[39mKeyError\u001b[39;00m:\n\u001b[0;32m--> 585\u001b[0m   \u001b[39mreturn\u001b[39;00m _shaped_abstractify_slow(x)\n",
      "File \u001b[0;32m~/.local/lib/python3.10/site-packages/jax/_src/api_util.py:565\u001b[0m, in \u001b[0;36m_shaped_abstractify_slow\u001b[0;34m(x)\u001b[0m\n\u001b[1;32m    563\u001b[0m \u001b[39mtry\u001b[39;00m:\n\u001b[1;32m    564\u001b[0m   \u001b[39mreturn\u001b[39;00m core\u001b[39m.\u001b[39mraise_to_shaped(\n\u001b[0;32m--> 565\u001b[0m     x \u001b[39mif\u001b[39;00m \u001b[39misinstance\u001b[39m(x, core\u001b[39m.\u001b[39mAbstractValue) \u001b[39melse\u001b[39;00m core\u001b[39m.\u001b[39;49mget_aval(x))\n\u001b[1;32m    566\u001b[0m \u001b[39mexcept\u001b[39;00m \u001b[39mTypeError\u001b[39;00m:\n",
      "File \u001b[0;32m~/.local/lib/python3.10/site-packages/jax/_src/core.py:1432\u001b[0m, in \u001b[0;36mget_aval\u001b[0;34m(x)\u001b[0m\n\u001b[1;32m   1431\u001b[0m \u001b[39melse\u001b[39;00m:\n\u001b[0;32m-> 1432\u001b[0m   \u001b[39mreturn\u001b[39;00m concrete_aval(x)\n",
      "File \u001b[0;32m~/.local/lib/python3.10/site-packages/jax/_src/core.py:1421\u001b[0m, in \u001b[0;36mconcrete_aval\u001b[0;34m(x)\u001b[0m\n\u001b[1;32m   1420\u001b[0m   handler \u001b[39m=\u001b[39m pytype_aval_mappings\u001b[39m.\u001b[39mget(typ)\n\u001b[0;32m-> 1421\u001b[0m   \u001b[39mif\u001b[39;00m handler: \u001b[39mreturn\u001b[39;00m handler(x)\n\u001b[1;32m   1422\u001b[0m \u001b[39mif\u001b[39;00m \u001b[39mhasattr\u001b[39m(x, \u001b[39m'\u001b[39m\u001b[39m__jax_array__\u001b[39m\u001b[39m'\u001b[39m):\n",
      "File \u001b[0;32m~/.local/lib/python3.10/site-packages/jax/_src/abstract_arrays.py:79\u001b[0m, in \u001b[0;36m_make_concrete_python_scalar\u001b[0;34m(t, x)\u001b[0m\n\u001b[1;32m     78\u001b[0m \u001b[39mdef\u001b[39;00m \u001b[39m_make_concrete_python_scalar\u001b[39m(t, x):\n\u001b[0;32m---> 79\u001b[0m   dtype \u001b[39m=\u001b[39m dtypes\u001b[39m.\u001b[39;49m_scalar_type_to_dtype(t, x)\n\u001b[1;32m     80\u001b[0m   weak_type \u001b[39m=\u001b[39m dtypes\u001b[39m.\u001b[39mis_weakly_typed(x)\n",
      "File \u001b[0;32m~/.local/lib/python3.10/site-packages/jax/_src/dtypes.py:277\u001b[0m, in \u001b[0;36m_scalar_type_to_dtype\u001b[0;34m(typ, value)\u001b[0m\n\u001b[1;32m    276\u001b[0m   \u001b[39mif\u001b[39;00m value \u001b[39m<\u001b[39m np\u001b[39m.\u001b[39miinfo(dtype)\u001b[39m.\u001b[39mmin \u001b[39mor\u001b[39;00m value \u001b[39m>\u001b[39m np\u001b[39m.\u001b[39miinfo(dtype)\u001b[39m.\u001b[39mmax:\n\u001b[0;32m--> 277\u001b[0m     \u001b[39mraise\u001b[39;00m \u001b[39mOverflowError\u001b[39;00m(\u001b[39mf\u001b[39m\u001b[39m\"\u001b[39m\u001b[39mPython int \u001b[39m\u001b[39m{\u001b[39;00mvalue\u001b[39m}\u001b[39;00m\u001b[39m too large to convert to \u001b[39m\u001b[39m{\u001b[39;00mdtype\u001b[39m}\u001b[39;00m\u001b[39m\"\u001b[39m)\n\u001b[1;32m    278\u001b[0m \u001b[39mreturn\u001b[39;00m dtype\n",
      "\u001b[0;31mOverflowError\u001b[0m: Python int 18014398509481984000000 too large to convert to int64",
      "\nThe above exception was the direct cause of the following exception:\n",
      "\u001b[0;31mOverflowError\u001b[0m                             Traceback (most recent call last)",
      "File \u001b[0;32m<timed exec>:1\u001b[0m\n",
      "File \u001b[0;32m/net/hume.uio.no/uio/hume/student-u00/johanmkr/Documents/BFast/BFast/BFast.py:125\u001b[0m, in \u001b[0;36mBk_fast\u001b[0;34m(delta, BoxSize, fc, dk, Nbins, triangle_type, MAS, verbose)\u001b[0m\n\u001b[1;32m    123\u001b[0m result[:,:\u001b[39m3\u001b[39m] \u001b[39m=\u001b[39m counts[\u001b[39m'\u001b[39m\u001b[39mbin_centers\u001b[39m\u001b[39m'\u001b[39m]\n\u001b[1;32m    124\u001b[0m result[:,\u001b[39m3\u001b[39m:\u001b[39m6\u001b[39m] \u001b[39m=\u001b[39m (Pk\u001b[39m/\u001b[39mcounts[\u001b[39m'\u001b[39m\u001b[39mcounts_P\u001b[39m\u001b[39m'\u001b[39m])[bin_indices]  \u001b[39m*\u001b[39m BoxSize\u001b[39m*\u001b[39m\u001b[39m*\u001b[39m\u001b[39m3\u001b[39m \u001b[39m/\u001b[39m grid\u001b[39m*\u001b[39m\u001b[39m*\u001b[39m\u001b[39m3\u001b[39m\n\u001b[0;32m--> 125\u001b[0m result[:,\u001b[39m6\u001b[39m] \u001b[39m=\u001b[39m Bk \u001b[39m*\u001b[39;49m BoxSize\u001b[39m*\u001b[39;49m\u001b[39m*\u001b[39;49m\u001b[39m6\u001b[39;49m \u001b[39m/\u001b[39m counts[\u001b[39m'\u001b[39m\u001b[39mcounts_B\u001b[39m\u001b[39m'\u001b[39m] \u001b[39m/\u001b[39m grid\u001b[39m*\u001b[39m\u001b[39m*\u001b[39m\u001b[39m3\u001b[39m\n\u001b[1;32m    126\u001b[0m result[:,\u001b[39m7\u001b[39m] \u001b[39m=\u001b[39m counts[\u001b[39m'\u001b[39m\u001b[39mcounts_B\u001b[39m\u001b[39m'\u001b[39m]\n\u001b[1;32m    128\u001b[0m \u001b[39mreturn\u001b[39;00m result\n",
      "File \u001b[0;32m~/.local/lib/python3.10/site-packages/jax/_src/numpy/array_methods.py:256\u001b[0m, in \u001b[0;36m_defer_to_unrecognized_arg.<locals>.deferring_binary_op\u001b[0;34m(self, other)\u001b[0m\n\u001b[1;32m    254\u001b[0m args \u001b[39m=\u001b[39m (other, \u001b[39mself\u001b[39m) \u001b[39mif\u001b[39;00m swap \u001b[39melse\u001b[39;00m (\u001b[39mself\u001b[39m, other)\n\u001b[1;32m    255\u001b[0m \u001b[39mif\u001b[39;00m \u001b[39misinstance\u001b[39m(other, _accepted_binop_types):\n\u001b[0;32m--> 256\u001b[0m   \u001b[39mreturn\u001b[39;00m binary_op(\u001b[39m*\u001b[39;49margs)\n\u001b[1;32m    257\u001b[0m \u001b[39m# Note: don't use isinstance here, because we don't want to raise for\u001b[39;00m\n\u001b[1;32m    258\u001b[0m \u001b[39m# subclasses, e.g. NamedTuple objects that may override operators.\u001b[39;00m\n\u001b[1;32m    259\u001b[0m \u001b[39mif\u001b[39;00m \u001b[39mtype\u001b[39m(other) \u001b[39min\u001b[39;00m _rejected_binop_types:\n",
      "    \u001b[0;31m[... skipping hidden 4 frame]\u001b[0m\n",
      "File \u001b[0;32m~/.local/lib/python3.10/site-packages/jax/_src/pjit.py:476\u001b[0m, in \u001b[0;36mcommon_infer_params\u001b[0;34m(***failed resolving arguments***)\u001b[0m\n\u001b[1;32m    473\u001b[0m     \u001b[39mexcept\u001b[39;00m \u001b[39mOverflowError\u001b[39;00m \u001b[39mas\u001b[39;00m e:\n\u001b[1;32m    474\u001b[0m       arg_path \u001b[39m=\u001b[39m (\u001b[39mf\u001b[39m\u001b[39m\"\u001b[39m\u001b[39margument path is \u001b[39m\u001b[39m{\u001b[39;00mdbg\u001b[39m.\u001b[39marg_names[i]\u001b[39m}\u001b[39;00m\u001b[39m\"\u001b[39m \u001b[39mif\u001b[39;00m dbg\n\u001b[1;32m    475\u001b[0m                   \u001b[39melse\u001b[39;00m \u001b[39mf\u001b[39m\u001b[39m\"\u001b[39m\u001b[39mflattened argument number is \u001b[39m\u001b[39m{\u001b[39;00mi\u001b[39m}\u001b[39;00m\u001b[39m\"\u001b[39m)\n\u001b[0;32m--> 476\u001b[0m       \u001b[39mraise\u001b[39;00m \u001b[39mOverflowError\u001b[39;00m(\n\u001b[1;32m    477\u001b[0m         \u001b[39m\"\u001b[39m\u001b[39mAn overflow was encountered while parsing an argument to a jitted \u001b[39m\u001b[39m\"\u001b[39m\n\u001b[1;32m    478\u001b[0m         \u001b[39mf\u001b[39m\u001b[39m\"\u001b[39m\u001b[39mcomputation, whose \u001b[39m\u001b[39m{\u001b[39;00marg_path\u001b[39m}\u001b[39;00m\u001b[39m.\u001b[39m\u001b[39m\"\u001b[39m\n\u001b[1;32m    479\u001b[0m       ) \u001b[39mfrom\u001b[39;00m \u001b[39me\u001b[39;00m\n\u001b[1;32m    480\u001b[0m   in_type \u001b[39m=\u001b[39m in_avals \u001b[39m=\u001b[39m \u001b[39mtuple\u001b[39m(avals)\n\u001b[1;32m    482\u001b[0m canonicalized_in_shardings_flat \u001b[39m=\u001b[39m _process_in_axis_resources(\n\u001b[1;32m    483\u001b[0m     hashable_pytree(in_shardings), in_avals, in_tree, resource_env, dbg,\n\u001b[1;32m    484\u001b[0m     device_or_backend_set)\n",
      "\u001b[0;31mOverflowError\u001b[0m: An overflow was encountered while parsing an argument to a jitted computation, whose argument path is x2."
     ]
    }
   ],
   "source": [
    "# Experience overflow when GPU is not working correctly\n",
    "\n",
    "# %time Bks_fast = BFast.Bk_fast(data, c.boxsize, 3.,3.,27, \"All\", \"CIC\", verbose=True)"
   ]
  },
  {
   "cell_type": "code",
   "execution_count": 10,
   "metadata": {},
   "outputs": [
    {
     "name": "stdout",
     "output_type": "stream",
     "text": [
      "Loading Counts from BFast_BkCounts_LBox5120.00_Grid256_Binning3.00kF_fc3.00_NBins27_TriangleTypeAll.npy\n",
      "Considering 2276 Triangle Configurations (All)\n"
     ]
    },
    {
     "name": "stderr",
     "output_type": "stream",
     "text": [
      "Running for 27 iterations: 100%|██████████████████████████████████████████████████████████████████████████████████████████████████████████████████████████████████████████████████████████████████████████████| 27/27 [00:08<00:00,  3.33it/s]\n",
      "Running for 2,276 iterations: 100%|███████████████████████████████████████████████████████████████████████████████████████████████████████████████████████████████████████████████████████████████████████| 2276/2276 [31:27<00:00,  1.21it/s]\n"
     ]
    },
    {
     "ename": "OverflowError",
     "evalue": "An overflow was encountered while parsing an argument to a jitted computation, whose argument path is x2.",
     "output_type": "error",
     "traceback": [
      "\u001b[0;31m---------------------------------------------------------------------------\u001b[0m",
      "\u001b[0;31mKeyError\u001b[0m                                  Traceback (most recent call last)",
      "File \u001b[0;32m~/.local/lib/python3.10/site-packages/jax/_src/api_util.py:583\u001b[0m, in \u001b[0;36mshaped_abstractify\u001b[0;34m(x)\u001b[0m\n\u001b[1;32m    582\u001b[0m \u001b[39mtry\u001b[39;00m:\n\u001b[0;32m--> 583\u001b[0m   \u001b[39mreturn\u001b[39;00m _shaped_abstractify_handlers[\u001b[39mtype\u001b[39;49m(x)](x)\n\u001b[1;32m    584\u001b[0m \u001b[39mexcept\u001b[39;00m \u001b[39mKeyError\u001b[39;00m:\n",
      "\u001b[0;31mKeyError\u001b[0m: <class 'int'>",
      "\nDuring handling of the above exception, another exception occurred:\n",
      "\u001b[0;31mOverflowError\u001b[0m                             Traceback (most recent call last)",
      "    \u001b[0;31m[... skipping hidden 1 frame]\u001b[0m\n",
      "File \u001b[0;32m~/.local/lib/python3.10/site-packages/jax/_src/api_util.py:585\u001b[0m, in \u001b[0;36mshaped_abstractify\u001b[0;34m(x)\u001b[0m\n\u001b[1;32m    584\u001b[0m \u001b[39mexcept\u001b[39;00m \u001b[39mKeyError\u001b[39;00m:\n\u001b[0;32m--> 585\u001b[0m   \u001b[39mreturn\u001b[39;00m _shaped_abstractify_slow(x)\n",
      "File \u001b[0;32m~/.local/lib/python3.10/site-packages/jax/_src/api_util.py:565\u001b[0m, in \u001b[0;36m_shaped_abstractify_slow\u001b[0;34m(x)\u001b[0m\n\u001b[1;32m    563\u001b[0m \u001b[39mtry\u001b[39;00m:\n\u001b[1;32m    564\u001b[0m   \u001b[39mreturn\u001b[39;00m core\u001b[39m.\u001b[39mraise_to_shaped(\n\u001b[0;32m--> 565\u001b[0m     x \u001b[39mif\u001b[39;00m \u001b[39misinstance\u001b[39m(x, core\u001b[39m.\u001b[39mAbstractValue) \u001b[39melse\u001b[39;00m core\u001b[39m.\u001b[39;49mget_aval(x))\n\u001b[1;32m    566\u001b[0m \u001b[39mexcept\u001b[39;00m \u001b[39mTypeError\u001b[39;00m:\n",
      "File \u001b[0;32m~/.local/lib/python3.10/site-packages/jax/_src/core.py:1432\u001b[0m, in \u001b[0;36mget_aval\u001b[0;34m(x)\u001b[0m\n\u001b[1;32m   1431\u001b[0m \u001b[39melse\u001b[39;00m:\n\u001b[0;32m-> 1432\u001b[0m   \u001b[39mreturn\u001b[39;00m concrete_aval(x)\n",
      "File \u001b[0;32m~/.local/lib/python3.10/site-packages/jax/_src/core.py:1421\u001b[0m, in \u001b[0;36mconcrete_aval\u001b[0;34m(x)\u001b[0m\n\u001b[1;32m   1420\u001b[0m   handler \u001b[39m=\u001b[39m pytype_aval_mappings\u001b[39m.\u001b[39mget(typ)\n\u001b[0;32m-> 1421\u001b[0m   \u001b[39mif\u001b[39;00m handler: \u001b[39mreturn\u001b[39;00m handler(x)\n\u001b[1;32m   1422\u001b[0m \u001b[39mif\u001b[39;00m \u001b[39mhasattr\u001b[39m(x, \u001b[39m'\u001b[39m\u001b[39m__jax_array__\u001b[39m\u001b[39m'\u001b[39m):\n",
      "File \u001b[0;32m~/.local/lib/python3.10/site-packages/jax/_src/abstract_arrays.py:79\u001b[0m, in \u001b[0;36m_make_concrete_python_scalar\u001b[0;34m(t, x)\u001b[0m\n\u001b[1;32m     78\u001b[0m \u001b[39mdef\u001b[39;00m \u001b[39m_make_concrete_python_scalar\u001b[39m(t, x):\n\u001b[0;32m---> 79\u001b[0m   dtype \u001b[39m=\u001b[39m dtypes\u001b[39m.\u001b[39;49m_scalar_type_to_dtype(t, x)\n\u001b[1;32m     80\u001b[0m   weak_type \u001b[39m=\u001b[39m dtypes\u001b[39m.\u001b[39mis_weakly_typed(x)\n",
      "File \u001b[0;32m~/.local/lib/python3.10/site-packages/jax/_src/dtypes.py:277\u001b[0m, in \u001b[0;36m_scalar_type_to_dtype\u001b[0;34m(typ, value)\u001b[0m\n\u001b[1;32m    276\u001b[0m   \u001b[39mif\u001b[39;00m value \u001b[39m<\u001b[39m np\u001b[39m.\u001b[39miinfo(dtype)\u001b[39m.\u001b[39mmin \u001b[39mor\u001b[39;00m value \u001b[39m>\u001b[39m np\u001b[39m.\u001b[39miinfo(dtype)\u001b[39m.\u001b[39mmax:\n\u001b[0;32m--> 277\u001b[0m     \u001b[39mraise\u001b[39;00m \u001b[39mOverflowError\u001b[39;00m(\u001b[39mf\u001b[39m\u001b[39m\"\u001b[39m\u001b[39mPython int \u001b[39m\u001b[39m{\u001b[39;00mvalue\u001b[39m}\u001b[39;00m\u001b[39m too large to convert to \u001b[39m\u001b[39m{\u001b[39;00mdtype\u001b[39m}\u001b[39;00m\u001b[39m\"\u001b[39m)\n\u001b[1;32m    278\u001b[0m \u001b[39mreturn\u001b[39;00m dtype\n",
      "\u001b[0;31mOverflowError\u001b[0m: Python int 18014398509481984000000 too large to convert to int64",
      "\nThe above exception was the direct cause of the following exception:\n",
      "\u001b[0;31mOverflowError\u001b[0m                             Traceback (most recent call last)",
      "File \u001b[0;32m<timed exec>:1\u001b[0m\n",
      "File \u001b[0;32m/net/hume.uio.no/uio/hume/student-u00/johanmkr/Documents/BFast/BFast/BFast.py:251\u001b[0m, in \u001b[0;36mBk\u001b[0;34m(delta, BoxSize, fc, dk, Nbins, triangle_type, MAS, verbose)\u001b[0m\n\u001b[1;32m    249\u001b[0m result[:,:\u001b[39m3\u001b[39m] \u001b[39m=\u001b[39m counts[\u001b[39m'\u001b[39m\u001b[39mbin_centers\u001b[39m\u001b[39m'\u001b[39m]\n\u001b[1;32m    250\u001b[0m result[:,\u001b[39m3\u001b[39m:\u001b[39m6\u001b[39m] \u001b[39m=\u001b[39m (Pk\u001b[39m/\u001b[39mcounts[\u001b[39m'\u001b[39m\u001b[39mcounts_P\u001b[39m\u001b[39m'\u001b[39m])[bin_indices]  \u001b[39m*\u001b[39m BoxSize\u001b[39m*\u001b[39m\u001b[39m*\u001b[39m\u001b[39m3\u001b[39m \u001b[39m/\u001b[39m grid\u001b[39m*\u001b[39m\u001b[39m*\u001b[39m\u001b[39m3\u001b[39m\n\u001b[0;32m--> 251\u001b[0m result[:,\u001b[39m6\u001b[39m] \u001b[39m=\u001b[39m Bk \u001b[39m*\u001b[39;49m BoxSize\u001b[39m*\u001b[39;49m\u001b[39m*\u001b[39;49m\u001b[39m6\u001b[39;49m \u001b[39m/\u001b[39m counts[\u001b[39m'\u001b[39m\u001b[39mcounts_B\u001b[39m\u001b[39m'\u001b[39m] \u001b[39m/\u001b[39m grid\u001b[39m*\u001b[39m\u001b[39m*\u001b[39m\u001b[39m3\u001b[39m\n\u001b[1;32m    252\u001b[0m result[:,\u001b[39m7\u001b[39m] \u001b[39m=\u001b[39m counts[\u001b[39m'\u001b[39m\u001b[39mcounts_B\u001b[39m\u001b[39m'\u001b[39m]\n\u001b[1;32m    254\u001b[0m \u001b[39mreturn\u001b[39;00m result\n",
      "File \u001b[0;32m~/.local/lib/python3.10/site-packages/jax/_src/numpy/array_methods.py:256\u001b[0m, in \u001b[0;36m_defer_to_unrecognized_arg.<locals>.deferring_binary_op\u001b[0;34m(self, other)\u001b[0m\n\u001b[1;32m    254\u001b[0m args \u001b[39m=\u001b[39m (other, \u001b[39mself\u001b[39m) \u001b[39mif\u001b[39;00m swap \u001b[39melse\u001b[39;00m (\u001b[39mself\u001b[39m, other)\n\u001b[1;32m    255\u001b[0m \u001b[39mif\u001b[39;00m \u001b[39misinstance\u001b[39m(other, _accepted_binop_types):\n\u001b[0;32m--> 256\u001b[0m   \u001b[39mreturn\u001b[39;00m binary_op(\u001b[39m*\u001b[39;49margs)\n\u001b[1;32m    257\u001b[0m \u001b[39m# Note: don't use isinstance here, because we don't want to raise for\u001b[39;00m\n\u001b[1;32m    258\u001b[0m \u001b[39m# subclasses, e.g. NamedTuple objects that may override operators.\u001b[39;00m\n\u001b[1;32m    259\u001b[0m \u001b[39mif\u001b[39;00m \u001b[39mtype\u001b[39m(other) \u001b[39min\u001b[39;00m _rejected_binop_types:\n",
      "    \u001b[0;31m[... skipping hidden 4 frame]\u001b[0m\n",
      "File \u001b[0;32m~/.local/lib/python3.10/site-packages/jax/_src/pjit.py:476\u001b[0m, in \u001b[0;36mcommon_infer_params\u001b[0;34m(***failed resolving arguments***)\u001b[0m\n\u001b[1;32m    473\u001b[0m     \u001b[39mexcept\u001b[39;00m \u001b[39mOverflowError\u001b[39;00m \u001b[39mas\u001b[39;00m e:\n\u001b[1;32m    474\u001b[0m       arg_path \u001b[39m=\u001b[39m (\u001b[39mf\u001b[39m\u001b[39m\"\u001b[39m\u001b[39margument path is \u001b[39m\u001b[39m{\u001b[39;00mdbg\u001b[39m.\u001b[39marg_names[i]\u001b[39m}\u001b[39;00m\u001b[39m\"\u001b[39m \u001b[39mif\u001b[39;00m dbg\n\u001b[1;32m    475\u001b[0m                   \u001b[39melse\u001b[39;00m \u001b[39mf\u001b[39m\u001b[39m\"\u001b[39m\u001b[39mflattened argument number is \u001b[39m\u001b[39m{\u001b[39;00mi\u001b[39m}\u001b[39;00m\u001b[39m\"\u001b[39m)\n\u001b[0;32m--> 476\u001b[0m       \u001b[39mraise\u001b[39;00m \u001b[39mOverflowError\u001b[39;00m(\n\u001b[1;32m    477\u001b[0m         \u001b[39m\"\u001b[39m\u001b[39mAn overflow was encountered while parsing an argument to a jitted \u001b[39m\u001b[39m\"\u001b[39m\n\u001b[1;32m    478\u001b[0m         \u001b[39mf\u001b[39m\u001b[39m\"\u001b[39m\u001b[39mcomputation, whose \u001b[39m\u001b[39m{\u001b[39;00marg_path\u001b[39m}\u001b[39;00m\u001b[39m.\u001b[39m\u001b[39m\"\u001b[39m\n\u001b[1;32m    479\u001b[0m       ) \u001b[39mfrom\u001b[39;00m \u001b[39me\u001b[39;00m\n\u001b[1;32m    480\u001b[0m   in_type \u001b[39m=\u001b[39m in_avals \u001b[39m=\u001b[39m \u001b[39mtuple\u001b[39m(avals)\n\u001b[1;32m    482\u001b[0m canonicalized_in_shardings_flat \u001b[39m=\u001b[39m _process_in_axis_resources(\n\u001b[1;32m    483\u001b[0m     hashable_pytree(in_shardings), in_avals, in_tree, resource_env, dbg,\n\u001b[1;32m    484\u001b[0m     device_or_backend_set)\n",
      "\u001b[0;31mOverflowError\u001b[0m: An overflow was encountered while parsing an argument to a jitted computation, whose argument path is x2."
     ]
    }
   ],
   "source": [
    "%time Bks = BFast.Bk(data, c.boxsize, 3.,3.,27, \"All\", \"CIC\", verbose=True)"
   ]
  }
 ],
 "metadata": {
  "kernelspec": {
   "display_name": "Python 3 (ipykernel)",
   "language": "python",
   "name": "python3"
  }
 },
 "nbformat": 4,
 "nbformat_minor": 2
}
