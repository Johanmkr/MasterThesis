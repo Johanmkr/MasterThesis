{
 "cells": [
  {
   "cell_type": "code",
   "execution_count": 1,
   "metadata": {},
   "outputs": [],
   "source": [
    "import os\n",
    "import sys\n",
    "import numpy as np \n",
    "import pandas as pd \n",
    "import matplotlib.pyplot as plt \n",
    "\n",
    "# add path\n",
    "parent_dir = os.path.abspath(os.path.join(os.getcwd(), os.pardir))\n",
    "# parent_dir = os.path.dirname(os.path.realpath(__file__))\n",
    "sys.path.append(parent_dir)\n",
    "# parent_dir\n",
    "\n",
    "from src.utils import paths\n",
    "from src.features import bispectrum\n",
    "from src.features import powerspectra\n"
   ]
  },
  {
   "cell_type": "code",
   "execution_count": 2,
   "metadata": {},
   "outputs": [],
   "source": [
    "seed = 50\n",
    "redshift = 5"
   ]
  },
  {
   "cell_type": "code",
   "execution_count": 3,
   "metadata": {},
   "outputs": [
    {
     "data": {
      "text/plain": [
       "PosixPath('/mn/stornext/d10/data/johanmkr/simulations/data_analysis/pre_computed_bispectra_bank/seed0050_gr_equilateral_rs0005.csv')"
      ]
     },
     "execution_count": 3,
     "metadata": {},
     "output_type": "execute_result"
    }
   ],
   "source": [
    "filename = paths.get_pre_computed_bispectra_from_bank(seed, \"gr\", redshift, type=\"equilateral\")\n",
    "filename"
   ]
  },
  {
   "cell_type": "code",
   "execution_count": 4,
   "metadata": {},
   "outputs": [
    {
     "data": {
      "text/html": [
       "<div>\n",
       "<style scoped>\n",
       "    .dataframe tbody tr th:only-of-type {\n",
       "        vertical-align: middle;\n",
       "    }\n",
       "\n",
       "    .dataframe tbody tr th {\n",
       "        vertical-align: top;\n",
       "    }\n",
       "\n",
       "    .dataframe thead th {\n",
       "        text-align: right;\n",
       "    }\n",
       "</style>\n",
       "<table border=\"1\" class=\"dataframe\">\n",
       "  <thead>\n",
       "    <tr style=\"text-align: right;\">\n",
       "      <th></th>\n",
       "      <th>Unnamed: 0</th>\n",
       "      <th>k</th>\n",
       "      <th>B</th>\n",
       "      <th>Q</th>\n",
       "    </tr>\n",
       "  </thead>\n",
       "  <tbody>\n",
       "    <tr>\n",
       "      <th>0</th>\n",
       "      <td>0</td>\n",
       "      <td>0.001227</td>\n",
       "      <td>-182758.014291</td>\n",
       "      <td>-9054.912783</td>\n",
       "    </tr>\n",
       "    <tr>\n",
       "      <th>1</th>\n",
       "      <td>1</td>\n",
       "      <td>0.001230</td>\n",
       "      <td>-167098.043610</td>\n",
       "      <td>-9855.823277</td>\n",
       "    </tr>\n",
       "    <tr>\n",
       "      <th>2</th>\n",
       "      <td>2</td>\n",
       "      <td>0.001232</td>\n",
       "      <td>-167098.043610</td>\n",
       "      <td>-9855.823277</td>\n",
       "    </tr>\n",
       "    <tr>\n",
       "      <th>3</th>\n",
       "      <td>3</td>\n",
       "      <td>0.001235</td>\n",
       "      <td>-167098.043610</td>\n",
       "      <td>-9855.823277</td>\n",
       "    </tr>\n",
       "    <tr>\n",
       "      <th>4</th>\n",
       "      <td>4</td>\n",
       "      <td>0.001238</td>\n",
       "      <td>-167098.043610</td>\n",
       "      <td>-9855.823277</td>\n",
       "    </tr>\n",
       "  </tbody>\n",
       "</table>\n",
       "</div>"
      ],
      "text/plain": [
       "   Unnamed: 0         k              B            Q\n",
       "0           0  0.001227 -182758.014291 -9054.912783\n",
       "1           1  0.001230 -167098.043610 -9855.823277\n",
       "2           2  0.001232 -167098.043610 -9855.823277\n",
       "3           3  0.001235 -167098.043610 -9855.823277\n",
       "4           4  0.001238 -167098.043610 -9855.823277"
      ]
     },
     "execution_count": 4,
     "metadata": {},
     "output_type": "execute_result"
    }
   ],
   "source": [
    "grdF = pd.read_csv(paths.get_pre_computed_bispectra_from_bank(seed, \"gr\", redshift, type=\"equilateral\"))\n",
    "newtondF = pd.read_csv(paths.get_pre_computed_bispectra_from_bank(seed, \"newton\", redshift, type=\"equilateral\"))\n",
    "grdF.head()"
   ]
  },
  {
   "cell_type": "code",
   "execution_count": 5,
   "metadata": {},
   "outputs": [
    {
     "data": {
      "image/png": "[encoded data removed]",
      "text/plain": [
       "<Figure size 432x288 with 1 Axes>"
      ]
     },
     "metadata": {
      "needs_background": "light"
     },
     "output_type": "display_data"
    }
   ],
   "source": [
    "def plot_stuff(grdF, newtondF):\n",
    "    plt.loglog(grdF[\"k\"], abs(grdF[\"B\"]), label=\"GR\")\n",
    "    plt.loglog(newtondF[\"k\"], abs(newtondF[\"B\"]), label=\"Newton\")\n",
    "    # plt.loglog(grdF[\"k\"], grdF[\"B\"], label=\"GR\")\n",
    "    # plt.loglog(newtondF[\"k\"], newtondF[\"B\"], label=\"Newton\")\n",
    "    plt.legend()\n",
    "    plt.show()\n",
    "\n",
    "plot_stuff(grdF, newtondF)"
   ]
  },
  {
   "cell_type": "code",
   "execution_count": 6,
   "metadata": {},
   "outputs": [],
   "source": [
    "# Naive rebinning\n",
    "\n",
    "def naive_rebinning(frame:pd.DataFrame, bin_stride:int=5):\n",
    "    \"\"\"Rebin the bispectrum by averaging the values in each bin\"\"\"\n",
    "    k = frame[\"k\"]\n",
    "    B = abs(frame[\"B\"])\n",
    "    k_rebinned = []\n",
    "    B_rebinned = []\n",
    "    i = 0\n",
    "    while i < len(k):\n",
    "        k_rebinned.append(k[i+bin_stride//2]) # Is this correct?\n",
    "        B_rebinned.append(np.mean(B[i:i+bin_stride]))\n",
    "        i += bin_stride\n",
    "    return pd.DataFrame({\"k\":k_rebinned, \"B\":B_rebinned})\n"
   ]
  },
  {
   "cell_type": "code",
   "execution_count": 7,
   "metadata": {},
   "outputs": [
    {
     "data": {
      "image/png": "[encoded data removed]",
      "text/plain": [
       "<Figure size 432x288 with 1 Axes>"
      ]
     },
     "metadata": {
      "needs_background": "light"
     },
     "output_type": "display_data"
    },
    {
     "data": {
      "text/html": [
       "<div>\n",
       "<style scoped>\n",
       "    .dataframe tbody tr th:only-of-type {\n",
       "        vertical-align: middle;\n",
       "    }\n",
       "\n",
       "    .dataframe tbody tr th {\n",
       "        vertical-align: top;\n",
       "    }\n",
       "\n",
       "    .dataframe thead th {\n",
       "        text-align: right;\n",
       "    }\n",
       "</style>\n",
       "<table border=\"1\" class=\"dataframe\">\n",
       "  <thead>\n",
       "    <tr style=\"text-align: right;\">\n",
       "      <th></th>\n",
       "      <th>k</th>\n",
       "      <th>B</th>\n",
       "    </tr>\n",
       "  </thead>\n",
       "  <tbody>\n",
       "    <tr>\n",
       "      <th>0</th>\n",
       "      <td>0.001245</td>\n",
       "      <td>163873.127237</td>\n",
       "    </tr>\n",
       "    <tr>\n",
       "      <th>1</th>\n",
       "      <td>0.001285</td>\n",
       "      <td>145753.471519</td>\n",
       "    </tr>\n",
       "    <tr>\n",
       "      <th>2</th>\n",
       "      <td>0.001326</td>\n",
       "      <td>145753.471519</td>\n",
       "    </tr>\n",
       "    <tr>\n",
       "      <th>3</th>\n",
       "      <td>0.001369</td>\n",
       "      <td>145753.471519</td>\n",
       "    </tr>\n",
       "    <tr>\n",
       "      <th>4</th>\n",
       "      <td>0.001413</td>\n",
       "      <td>145753.471519</td>\n",
       "    </tr>\n",
       "    <tr>\n",
       "      <th>...</th>\n",
       "      <td>...</td>\n",
       "      <td>...</td>\n",
       "    </tr>\n",
       "    <tr>\n",
       "      <th>62</th>\n",
       "      <td>0.008779</td>\n",
       "      <td>0.682265</td>\n",
       "    </tr>\n",
       "    <tr>\n",
       "      <th>63</th>\n",
       "      <td>0.009060</td>\n",
       "      <td>0.426445</td>\n",
       "    </tr>\n",
       "    <tr>\n",
       "      <th>64</th>\n",
       "      <td>0.009350</td>\n",
       "      <td>0.744647</td>\n",
       "    </tr>\n",
       "    <tr>\n",
       "      <th>65</th>\n",
       "      <td>0.009649</td>\n",
       "      <td>0.328155</td>\n",
       "    </tr>\n",
       "    <tr>\n",
       "      <th>66</th>\n",
       "      <td>0.009958</td>\n",
       "      <td>0.444206</td>\n",
       "    </tr>\n",
       "  </tbody>\n",
       "</table>\n",
       "<p>67 rows × 2 columns</p>\n",
       "</div>"
      ],
      "text/plain": [
       "           k              B\n",
       "0   0.001245  163873.127237\n",
       "1   0.001285  145753.471519\n",
       "2   0.001326  145753.471519\n",
       "3   0.001369  145753.471519\n",
       "4   0.001413  145753.471519\n",
       "..       ...            ...\n",
       "62  0.008779       0.682265\n",
       "63  0.009060       0.426445\n",
       "64  0.009350       0.744647\n",
       "65  0.009649       0.328155\n",
       "66  0.009958       0.444206\n",
       "\n",
       "[67 rows x 2 columns]"
      ]
     },
     "execution_count": 7,
     "metadata": {},
     "output_type": "execute_result"
    }
   ],
   "source": [
    "first_bin_stride = 15\n",
    "once_rebinned_grdF = naive_rebinning(grdF, bin_stride=first_bin_stride)\n",
    "once_rebinned_newtondF = naive_rebinning(newtondF, bin_stride=first_bin_stride)\n",
    "\n",
    "plot_stuff(once_rebinned_grdF, once_rebinned_newtondF)\n",
    "once_rebinned_grdF"
   ]
  },
  {
   "cell_type": "code",
   "execution_count": 8,
   "metadata": {},
   "outputs": [],
   "source": [
    "# second_bin_stride = 5\n",
    "# twice_rebinned_grdF = naive_rebinning(once_rebinned_grdF, bin_stride=second_bin_stride)\n",
    "# twice_rebinned_newtondF = naive_rebinning(once_rebinned_newtondF, bin_stride=second_bin_stride)\n",
    "\n",
    "# plot_stuff(twice_rebinned_grdF, twice_rebinned_newtondF)"
   ]
  },
  {
   "cell_type": "code",
   "execution_count": 9,
   "metadata": {},
   "outputs": [],
   "source": [
    "# thirds_bin_stride = 5\n",
    "# thrice_rebinned_grdF = naive_rebinning(twice_rebinned_grdF, bin_stride=thirds_bin_stride)\n",
    "# thrice_rebinned_newtondF = naive_rebinning(twice_rebinned_newtondF, bin_stride=thirds_bin_stride)\n",
    "\n",
    "# plot_stuff(thrice_rebinned_grdF, thrice_rebinned_newtondF)"
   ]
  },
  {
   "cell_type": "markdown",
   "metadata": {},
   "source": [
    "# Analytical approach - three level PT\n",
    "\n",
    "\n",
    "$$\n",
    "    F_2(\\mathbf{k}_1,\\mathbf{k}_2) = \\frac{5}{7} + \\frac{x}{2}\\left(\\frac{k_1}{k_2}+\\frac{k_2}{k_1}\\right)+\\frac{2}{7}x^2,\n",
    "$$\n",
    "with $x=\\hat{\\mathbf{k}}_1\\cdot\\hat{\\mathbf{k}}_2 = \\cos\\theta$, where $\\theta$ is the angle spanned by $\\mathbf{k}_1$ and $\\mathbf{k}_2$."
   ]
  },
  {
   "cell_type": "code",
   "execution_count": 10,
   "metadata": {},
   "outputs": [],
   "source": [
    "def F2_kernel(k1, k2, angle):\n",
    "    return 5./7 + 1./2 * (k1/k2 + k2/k1) * np.cos(angle) + 2./7 * (np.cos(angle))**2\n",
    "\n",
    "def full_F2_output(k, theta_12):\n",
    "    \"\"\"The F2 kernel for equilatera and squeezed triangles where k1=k2\"\"\"\n",
    "    alpha = np.pi - theta_12\n",
    "    k1 = k\n",
    "    k2 = k\n",
    "    k3 = np.sqrt(k1**2 + k2**2 - 2*k1*k2*np.cos(alpha))\n",
    "    \n",
    "    # Find beta and gamma\n",
    "    beta = np.arcsin(k1/k3 * np.sin(alpha))\n",
    "    gamma = np.arcsin(k2/k3 * np.sin(alpha))\n",
    "    \n",
    "    # Check that the angles add up to pi\n",
    "    assert np.isclose(beta + gamma + alpha, np.pi)\n",
    "    \n",
    "    # Find remaining thetas\n",
    "    theta_23 = np.pi - beta \n",
    "    theta_13 = np.pi - gamma\n",
    "    \n",
    "    # Permutations\n",
    "    F12 = F2_kernel(k1, k2, theta_12)\n",
    "    F23 = F2_kernel(k2, k3, theta_23)\n",
    "    F31 = F2_kernel(k3, k1, theta_13)\n",
    "    \n",
    "    return F12, F23, F31, k3\n",
    "    "
   ]
  },
  {
   "cell_type": "code",
   "execution_count": 11,
   "metadata": {},
   "outputs": [],
   "source": [
    "grPS = powerspectra.PowerSpectra(paths.get_power_spectra_path(seed, \"gr\"))\n",
    "newtonPS = powerspectra.PowerSpectra(paths.get_power_spectra_path(seed, \"newton\"))"
   ]
  },
  {
   "cell_type": "code",
   "execution_count": 12,
   "metadata": {},
   "outputs": [],
   "source": [
    "# Spline spectra: \n",
    "from scipy import interpolate\n",
    "\n",
    "def Splined_PS(PS, kind=\"cubic\", **kwargs):\n",
    "    \"\"\"Returns a spline interpolation of the power spectra\"\"\"\n",
    "    f = interpolate.interp1d(PS.k, PS.pk, kind=kind, **kwargs)\n",
    "    return f\n",
    "\n",
    "grPS_spline = Splined_PS(PS=grPS.get_power_spectrum(\"phi\", redshift), bounds_error=False, fill_value =\"extrapolate\")\n",
    "newtonPS_spline = Splined_PS(PS=newtonPS.get_power_spectrum(\"phi\", redshift), bounds_error=False, fill_value =\"extrapolate\")"
   ]
  },
  {
   "cell_type": "code",
   "execution_count": 13,
   "metadata": {},
   "outputs": [],
   "source": [
    "def analytical_equilateral_bispectrum(ps_function: callable):\n",
    "    k_range = np.geomspace(1e-3, 1e-2, 100)\n",
    "    B_analytical = []\n",
    "    for k in k_range:\n",
    "        F12, F23, F31, k3 = full_F2_output(k, 2*np.pi/3)\n",
    "        B_value = 2 * F12 * ps_function(k) * ps_function(k) + 2*F23 * ps_function(k) * ps_function(k3) + 2*F31 * ps_function(k) * ps_function(k3)\n",
    "        # FIXME why divide by k here\n",
    "        B_analytical.append(B_value/k) # why divide by k here\n",
    "        # print(B_value*1e7)\n",
    "    return k_range, B_analytical\n",
    "\n",
    "def analytical_squeezed_bispectrum(ps_function: callable):\n",
    "    k_range = np.geomspace(1e-3, 1e-2, 100)\n",
    "    B_analytical = []\n",
    "    for k in k_range:\n",
    "        F12, F23, F31, k3 = full_F2_output(k, 20*np.pi/19)\n",
    "        B_value = 2 * F12 * ps_function(k) * ps_function(k) + 2*F23 * ps_function(k) * ps_function(k3) + 2*F31 * ps_function(k) * ps_function(k3)\n",
    "        B_analytical.append(B_value)\n",
    "    return k_range, B_analytical"
   ]
  },
  {
   "cell_type": "code",
   "execution_count": 14,
   "metadata": {},
   "outputs": [
    {
     "data": {
      "image/png": "[encoded data removed]",
      "text/plain": [
       "<Figure size 432x288 with 1 Axes>"
      ]
     },
     "metadata": {
      "needs_background": "light"
     },
     "output_type": "display_data"
    }
   ],
   "source": [
    "k_anal, B_anal = analytical_equilateral_bispectrum(grPS_spline)\n",
    "\n",
    "\n",
    "plt.loglog(once_rebinned_grdF[\"k\"], abs(once_rebinned_grdF[\"B\"]), label=\"GR\")\n",
    "plt.loglog(once_rebinned_newtondF[\"k\"], abs(once_rebinned_newtondF[\"B\"]), label=\"Newton\")\n",
    "plt.loglog(k_anal, B_anal, label=\"Analytical\")\n",
    "# plt.loglog(grdF[\"k\"], grdF[\"B\"], label=\"GR\")\n",
    "# plt.loglog(newtondF[\"k\"], newtondF[\"B\"], label=\"Newton\")\n",
    "plt.legend()\n",
    "plt.show()"
   ]
  },
  {
   "cell_type": "markdown",
   "metadata": {},
   "source": [
    "# Using the power spectra of $\\Phi$ from CLASS"
   ]
  },
  {
   "cell_type": "code",
   "execution_count": 15,
   "metadata": {},
   "outputs": [],
   "source": [
    "from src.features import classPK\n",
    "\n",
    "def get_potential_power_spectrum_spline(z):\n",
    "    class_obj = classPK.ClassSpectra(redshift=z)\n",
    "    phi_frame = class_obj.phi_pk\n",
    "    f = interpolate.interp1d(phi_frame.k, phi_frame.pk, kind=\"cubic\", bounds_error=False, fill_value =\"extrapolate\")\n",
    "    return f\n",
    "\n",
    "phi_spline = get_potencube.Cubetial_power_spectrum_spline(redshift)\n"
   ]
  },
  {
   "cell_type": "code",
   "execution_count": 16,
   "metadata": {},
   "outputs": [
    {
     "data": {
      "image/png": "[encoded data removed]",
      "text/plain": [
       "<Figure size 432x288 with 1 Axes>"
      ]
     },
     "metadata": {
      "needs_background": "light"
     },
     "output_type": "display_data"
    }
   ],
   "source": [
    "k_anal, B_anal = analytical_equilateral_bispectrum(phi_spline)\n",
    "\n",
    "\n",
    "plt.loglog(once_rebinned_grdF[\"k\"], abs(once_rebinned_grdF[\"B\"]), label=\"GR\")\n",
    "plt.loglog(once_rebinned_newtondF[\"k\"], abs(once_rebinned_newtondF[\"B\"]), label=\"Newton\")\n",
    "plt.loglog(k_anal, B_anal, label=\"Analytical\")\n",
    "# plt.loglog(grdF[\"k\"], grdF[\"B\"], label=\"GR\")\n",
    "# plt.loglog(newtondF[\"k\"], newtondF[\"B\"], label=\"Newton\")\n",
    "plt.legend()\n",
    "plt.show()"
   ]
  },
  {
   "cell_type": "markdown",
   "metadata": {},
   "source": [
    "# More analytical approach  NBNB: DOES NOT WORK ON HORIZON SCALE\n",
    "\n",
    "Since the above we use the power spectra from the datacubes itself, which induces a bias. Furthermore, each realisation (seed) give rise to a different power spectrum. \n",
    "\n",
    "In the below approach I try to make it more analytical:\n",
    "\n",
    "\n",
    "Start from Poisson equation: \n",
    "\n",
    "$$\n",
    "    \\Phi(k,a) = \\frac{3\\Omega_m H_0^2}{2k^2 a}\\delta_m(k,a)   \\;\\;\\;\\text{(Dodelson 2020, eq8.6)}\n",
    "$$\n",
    "\n",
    "Then find the power spectrum through:\n",
    "\n",
    "$$\n",
    "    \\langle\\Phi(\\mathbf{k},a)\\Phi^*(\\mathbf{k},a)\\rangle = \\mathcal{P}_\\Phi(k,a)(2\\pi)^3\\delta_D(\\mathbf{k}-\\mathbf{k}') \\\\\n",
    "    \\\\\n",
    "    \\implies \\mathcal{P}_\\Phi(k,a)\\delta_D(\\mathbf{k}-\\mathbf{k}') =  \\frac{\\langle\\Phi(\\mathbf{k},a)\\Phi^*(\\mathbf{k},a)\\rangle}{(2\\pi)^3}\n",
    "$$\n",
    "which again implies:\n",
    "\n",
    "$$\n",
    "    \\mathcal{P}_\\Phi(k,a) = \\left( \\frac{3}{2}\\frac{\\Omega_m H_0^2}{k^2 a} \\right)^2 \\mathcal{P}_\\delta(k,a)\n",
    "$$\n",
    "\n",
    "which for the redshift become:\n",
    "\n",
    "$$\n",
    "    \\mathcal{P}_\\Phi(k,z) = \\left(\\frac{3}{2} \\frac{\\Omega_m H_0^2(1+z)}{k^2} \\right)^2 \\mathcal{P}_\\delta(k,z)\n",
    "$$"
   ]
  },
  {
   "cell_type": "markdown",
   "metadata": {},
   "source": [
    "I use the following values for $\\Omega_m$ and $H_0$:\n",
    "\n",
    "* $H_0 = 67.556$\n",
    "* $\\Omega_m = \\Omega_b + \\Omega_c = 0.022032 + 0.12038 $"
   ]
  },
  {
   "cell_type": "code",
   "execution_count": 17,
   "metadata": {},
   "outputs": [],
   "source": [
    "# # Matter power spectrum spline\n",
    "# from src.features import classPK\n",
    "\n",
    "# def matter_power_spectrum_spline(z):\n",
    "#     class_matter_PS = classPK.ClassSpectra()\n",
    "#     class_matter_PS_results = class_matter_PS(z, gauge=\"synchronous\")\n",
    "#     k = class_matter_PS_results[0]\n",
    "#     pk = class_matter_PS_results[1]\n",
    "#     f = interpolate.interp1d(k, pk, kind=\"cubic\", bounds_error=False, fill_value =\"extrapolate\")\n",
    "#     return f\n",
    "\n",
    "# mpsp = matter_power_spectrum_spline(redshift)"
   ]
  },
  {
   "cell_type": "code",
   "execution_count": 18,
   "metadata": {},
   "outputs": [],
   "source": [
    "# H0 = 67.556\n",
    "# h = H0/100\n",
    "# Omega_m = 0.022032 + 0.12038\n",
    "\n",
    "# def PS_phi_analytical(k:float, z:float = redshift, ps: callable=mpsp):\n",
    "#     \"\"\"Analytical expression for the power spectrum of phi\"\"\"\n",
    "#     copilot_suggestion = 2*np.pi**2 * (H0/2/np.pi)**4 * (k**3)**(3/2) * (1 + z)**2 / (Omega_m)**2\n",
    "#     # FIXME: This is not correct\n",
    "#     my_analytical_answer =  (3./2 * Omega_m * H0**2 * (1+z)/k**2)**2 * ps(k)\n",
    "#     k = k/h\n",
    "#     a = 1 / (1 + z)\n",
    "#     prefactor = (9./4) * (H0**4/k**4) * (Omega_m**2) * (a**4)\n",
    "#     chatGPT_answer = prefactor * ps(k)\n",
    "    \n",
    "#     return ps(k)"
   ]
  },
  {
   "cell_type": "code",
   "execution_count": 19,
   "metadata": {},
   "outputs": [],
   "source": [
    "# k = np.geomspace(1e-3, 1, 100)\n",
    "# plt.loglog(k, PS_phi_analytical(k), label=\"Analytical\")"
   ]
  },
  {
   "cell_type": "code",
   "execution_count": 20,
   "metadata": {},
   "outputs": [],
   "source": [
    "# # Compare with actual power spectra:\n",
    "# from src.features import powerspectra\n",
    "\n",
    "# PowerSpectra = powerspectra.PowerSpectra(paths.get_power_spectra_path(seed, \"gr\"))"
   ]
  },
  {
   "cell_type": "code",
   "execution_count": 21,
   "metadata": {},
   "outputs": [],
   "source": [
    "# k_anal, B_anal = analytical_equilateral_bispectrum(PS_phi_analytical)\n",
    "\n",
    "\n",
    "# # plt.loglog(once_re_rebinned_grdF[\"k\"], abs(once_rebinned_grdF[\"B\"]), label=\"GR\")\n",
    "# # plt.loglog(oncebinned_newtondF[\"k\"], abs(once_rebinned_newtondF[\"B\"]), label=\"Newton\")\n",
    "# plt.loglog(k_anal, B_anal, label=\"Analytical\")\n",
    "# # plt.loglog(grdF[\"k\"], grdF[\"B\"], label=\"GR\")\n",
    "# # plt.loglog(newtondF[\"k\"], newtondF[\"B\"], label=\"Newton\")\n",
    "# plt.legend()\n",
    "# plt.show()"
   ]
  },
  {
   "cell_type": "code",
   "execution_count": null,
   "metadata": {},
   "outputs": [],
   "source": []
  }
 ],
 "metadata": {
  "kernelspec": {
   "display_name": "Python 3 (ipykernel)",
   "language": "python",
   "name": "python3"
  },
  "language_info": {
   "codemirror_mode": {
    "name": "ipython",
    "version": 3
   },
   "file_extension": ".py",
   "mimetype": "text/x-python",
   "name": "python",
   "nbconvert_exporter": "python",
   "pygments_lexer": "ipython3",
   "version": "3.10.12"
  }
 },
 "nbformat": 4,
 "nbformat_minor": 2
}
