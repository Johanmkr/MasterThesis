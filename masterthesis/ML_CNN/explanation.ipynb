{
 "cells": [
  {
   "cell_type": "code",
   "execution_count": 1,
   "metadata": {},
   "outputs": [],
   "source": [
    "import numpy as np \n",
    "import matplotlib.pyplot as plt\n",
    "import torch\n",
    "\n",
    "\n",
    "import data\n",
    "import train_utils as tutils \n",
    "import architectures as archs\n",
    "from torchvision import transforms as tf\n",
    "from tqdm import trange"
   ]
  },
  {
   "cell_type": "code",
   "execution_count": 2,
   "metadata": {},
   "outputs": [],
   "source": [
    "transforms = [lambda x: x]\n",
    "\n",
    "rotate90 = tf.RandomRotation((90, 90))\n",
    "rotate180 = tf.RandomRotation((180, 180))\n",
    "rotate270 = tf.RandomRotation((270, 270))\n",
    "flipH = tf.RandomHorizontalFlip(p=1.0)\n",
    "\n",
    "rot90 = tf.Compose([rotate90])\n",
    "rot180 = tf.Compose([rotate180])\n",
    "rot270 = tf.Compose([rotate270])\n",
    "flip = tf.Compose([flipH])\n",
    "fliprot90 = tf.Compose([flipH, rotate90])\n",
    "fliprot180 = tf.Compose([flipH, rotate180])\n",
    "fliprot270 = tf.Compose([flipH, rotate270])\n",
    "\n",
    "for transform in [rot90, rot180, rot270, flip, fliprot90, fliprot180, fliprot270]:\n",
    "    transforms.append(transform)\n",
    "\n",
    "nr_transformations = len(transforms)"
   ]
  },
  {
   "cell_type": "code",
   "execution_count": 3,
   "metadata": {},
   "outputs": [],
   "source": [
    "def plot_2d_tensor(tensor, title=\"Image\"):\n",
    "    plt.figure()\n",
    "    plt.imshow(tensor)\n",
    "    plt.title(title)\n",
    "    plt.show()"
   ]
  },
  {
   "cell_type": "code",
   "execution_count": 4,
   "metadata": {},
   "outputs": [
    {
     "name": "stdout",
     "output_type": "stream",
     "text": [
      "Making datasets...\n",
      "Training set: 1 seeds\n",
      "Test set: 1 seeds\n"
     ]
    }
   ],
   "source": [
    "datapath = \"/mn/stornext/d10/data/johanmkr/simulations/data_z1/data_z1.h5\"\n",
    "train_loader, test_loader = data.CUBE_make_training_and_testing_data([0], [1], newton_augmentation=0, datapath=datapath)"
   ]
  },
  {
   "cell_type": "code",
   "execution_count": 5,
   "metadata": {},
   "outputs": [],
   "source": [
    "test_data = data.WholeCubeDataset(seeds=[0,1], newton_augmentation=0.0, datapath=datapath)"
   ]
  },
  {
   "cell_type": "code",
   "execution_count": 6,
   "metadata": {},
   "outputs": [],
   "source": [
    "sample0 = test_data[0]\n",
    "sample1 = test_data[1]"
   ]
  },
  {
   "cell_type": "code",
   "execution_count": 7,
   "metadata": {},
   "outputs": [],
   "source": [
    "cubes = torch.stack([sample0[\"cube\"], sample1[\"cube\"]], dim=0)\n",
    "labels = torch.stack([sample0[\"label\"], sample1[\"label\"]], dim=0)"
   ]
  },
  {
   "cell_type": "code",
   "execution_count": 8,
   "metadata": {},
   "outputs": [
    {
     "data": {
      "text/plain": [
       "torch.Size([2, 1])"
      ]
     },
     "execution_count": 8,
     "metadata": {},
     "output_type": "execute_result"
    }
   ],
   "source": [
    "labels.shape"
   ]
  },
  {
   "cell_type": "code",
   "execution_count": 9,
   "metadata": {},
   "outputs": [],
   "source": [
    "def slice_and_rearrange_cube(cubes, labels):\n",
    "    # Stack together the cubes and labels in the batch\n",
    "    N, D, H, W = cubes.shape\n",
    "    \n",
    "    slices = []\n",
    "    targets = []\n",
    "    for i in range(N):\n",
    "        slice_d = cubes[i, :, :, :].unsqueeze(0).permute(0, 2, 3, 1).reshape(-1, 1, H, W)  # (256, 1, 256, 256)\n",
    "        slice_h = cubes[i, :, :, :].unsqueeze(0).permute(0, 1, 3, 2).reshape(-1, 1, D, W)  # (256, 1, 256, 256)\n",
    "        slice_w = cubes[i, :, :, :].unsqueeze(0).reshape(-1, 1, D, H)  # (256, 1, 256, 256)\n",
    "        slices.append(slice_d)\n",
    "        slices.append(slice_h)\n",
    "        slices.append(slice_w)\n",
    "        \n",
    "        target = torch.ones(256, 1) * labels[i]\n",
    "        targets.append(target)\n",
    "        targets.append(target)\n",
    "        targets.append(target)\n",
    "    \n",
    "    all_slices = torch.cat(slices, dim=0)\n",
    "    all_targets = torch.cat(targets, dim=0)\n",
    "\n",
    "    # Old version\n",
    "    \n",
    "    # slices_d = cubes.permute(0, 2, 3, 1).reshape(-1, 1, H, W)  # (N*256, 1, 256, 256)\n",
    "    # slices_h = cubes.permute(0, 1, 3, 2).reshape(-1, 1, D, W)  # (N*256, 1, 256, 256)\n",
    "    # slices_w = cubes.reshape(-1, 1, D, H)  # (N*256, 1, 256, 256)\n",
    "    \n",
    "    \n",
    "    # all_slices = torch.cat(\n",
    "    #     [slices_d, slices_h, slices_w], dim=0\n",
    "    # )  # (3*N*256, 1, 256, 256)\n",
    "\n",
    "    # all_targets = labels.repeat(1, 256 * 3).reshape(-1, 1)  # (3*N*256, 1)\n",
    "    \n",
    "    return all_slices, all_targets"
   ]
  },
  {
   "cell_type": "code",
   "execution_count": 10,
   "metadata": {},
   "outputs": [],
   "source": [
    "# import time\n",
    "# start = time.time()\n",
    "# for _ in range(100):\n",
    "#     all_slices, targets = slice_and_rearrange_cube(cubes, labels)\n",
    "# end = time.time()\n",
    "# print(f\"time: {(end - start)/100:.2} s\")\n",
    "all_slices, targets = slice_and_rearrange_cube(cubes, labels)\n"
   ]
  },
  {
   "cell_type": "code",
   "execution_count": 11,
   "metadata": {},
   "outputs": [
    {
     "data": {
      "text/plain": [
       "torch.Size([1536, 1, 256, 256])"
      ]
     },
     "execution_count": 11,
     "metadata": {},
     "output_type": "execute_result"
    }
   ],
   "source": [
    "all_slices.shape"
   ]
  },
  {
   "cell_type": "code",
   "execution_count": 12,
   "metadata": {},
   "outputs": [
    {
     "data": {
      "text/plain": [
       "torch.Size([1536, 1])"
      ]
     },
     "execution_count": 12,
     "metadata": {},
     "output_type": "execute_result"
    }
   ],
   "source": [
    "targets.shape"
   ]
  },
  {
   "cell_type": "code",
   "execution_count": 13,
   "metadata": {},
   "outputs": [
    {
     "name": "stdout",
     "output_type": "stream",
     "text": [
      "tensor([[1.],\n",
      "        [1.],\n",
      "        [1.],\n",
      "        ...,\n",
      "        [0.],\n",
      "        [0.],\n",
      "        [0.]])\n"
     ]
    }
   ],
   "source": [
    "print(targets)"
   ]
  },
  {
   "cell_type": "code",
   "execution_count": 14,
   "metadata": {},
   "outputs": [],
   "source": [
    "# plot_2d_tensor(all_slices[0,0,:,:].numpy(), title=\"Slice 0\")\n",
    "# plot_2d_tensor(transforms[0](all_slices[0,0,:,:].unsqueeze(0)).squeeze(0), title=\"Slice 0 transformed\")"
   ]
  },
  {
   "cell_type": "code",
   "execution_count": null,
   "metadata": {},
   "outputs": [],
   "source": []
  },
  {
   "cell_type": "code",
   "execution_count": 15,
   "metadata": {},
   "outputs": [
    {
     "name": "stderr",
     "output_type": "stream",
     "text": [
      "100%|██████████| 1536/1536 [00:00<00:00, 24726.83it/s]\n",
      "100%|██████████| 1536/1536 [00:00<00:00, 26473.14it/s]"
     ]
    },
    {
     "name": "stderr",
     "output_type": "stream",
     "text": [
      "\n",
      "100%|██████████| 1536/1536 [00:00<00:00, 26756.48it/s]\n",
      "100%|██████████| 1536/1536 [00:00<00:00, 25183.92it/s]\n",
      "100%|██████████| 1536/1536 [00:00<00:00, 18626.96it/s]\n",
      "100%|██████████| 1536/1536 [00:00<00:00, 21036.09it/s]\n",
      "100%|██████████| 1536/1536 [00:00<00:00, 27489.08it/s]\n",
      "100%|██████████| 1536/1536 [00:00<00:00, 18289.27it/s]"
     ]
    },
    {
     "name": "stdout",
     "output_type": "stream",
     "text": [
      "0\n"
     ]
    },
    {
     "name": "stderr",
     "output_type": "stream",
     "text": [
      "\n"
     ]
    }
   ],
   "source": [
    "error_count = 0\n",
    "transforms_idices = list(np.random.permutation(nr_transformations))\n",
    "for transform_idx in transforms_idices:\n",
    "    # Create a permutation index that will be used to shuffle both the slices and the labels.\n",
    "    permutation_index = torch.randperm(all_slices.size(0))\n",
    "\n",
    "    # Apply this permutation to shuffle the slices\n",
    "    all_slices = all_slices[permutation_index]\n",
    "\n",
    "    # Apply the same permutation to shuffle the labels\n",
    "    targets = targets[permutation_index]\n",
    "    transformed_slices = transforms[transform_idx](all_slices)\n",
    "    for i in trange(all_slices.size(0)):\n",
    "        mean = all_slices[i].mean()\n",
    "        if (mean.item() == 0.0 and targets[i].item() != 0) or (targets[i].item() == 0.0 and mean.item() != 0.0):\n",
    "            error_count += 1\n",
    "            # print(mean.item(), targets[i].item())\n",
    "        \n",
    "#         if mean.item() < 1e-9:\n",
    "#             if targets[0].item() > 1e-9:\n",
    "#                 error_count += 1\n",
    "#                 print(mean.item(), targets[i].item())\n",
    "print(error_count)"
   ]
  },
  {
   "cell_type": "code",
   "execution_count": 17,
   "metadata": {},
   "outputs": [
    {
     "ename": "AttributeError",
     "evalue": "'Figure' object has no attribute 'close'",
     "output_type": "error",
     "traceback": [
      "\u001b[0;31m---------------------------------------------------------------------------\u001b[0m",
      "\u001b[0;31mAttributeError\u001b[0m                            Traceback (most recent call last)",
      "Cell \u001b[0;32mIn[17], line 4\u001b[0m\n\u001b[1;32m      1\u001b[0m test \u001b[38;5;241m=\u001b[39m [\u001b[38;5;241m0\u001b[39m,\u001b[38;5;241m0\u001b[39m,\u001b[38;5;241m0\u001b[39m,\u001b[38;5;241m0\u001b[39m,\u001b[38;5;241m1\u001b[39m,\u001b[38;5;241m1\u001b[39m,\u001b[38;5;241m1\u001b[39m,\u001b[38;5;241m1\u001b[39m,\u001b[38;5;241m1\u001b[39m,\u001b[38;5;241m0\u001b[39m,\u001b[38;5;241m1\u001b[39m,\u001b[38;5;241m0\u001b[39m,\u001b[38;5;241m1\u001b[39m,\u001b[38;5;241m0\u001b[39m,\u001b[38;5;241m0\u001b[39m,\u001b[38;5;241m0\u001b[39m,\u001b[38;5;241m0\u001b[39m,\u001b[38;5;241m0\u001b[39m,\u001b[38;5;241m1\u001b[39m,\u001b[38;5;241m1\u001b[39m,\u001b[38;5;241m1\u001b[39m,\u001b[38;5;241m1\u001b[39m]\n\u001b[1;32m      2\u001b[0m pred \u001b[38;5;241m=\u001b[39m [\u001b[38;5;241m1\u001b[39m,\u001b[38;5;241m0\u001b[39m,\u001b[38;5;241m0\u001b[39m,\u001b[38;5;241m1\u001b[39m,\u001b[38;5;241m0\u001b[39m,\u001b[38;5;241m1\u001b[39m,\u001b[38;5;241m0\u001b[39m,\u001b[38;5;241m1\u001b[39m,\u001b[38;5;241m0\u001b[39m,\u001b[38;5;241m1\u001b[39m,\u001b[38;5;241m0\u001b[39m,\u001b[38;5;241m0\u001b[39m,\u001b[38;5;241m0\u001b[39m,\u001b[38;5;241m1\u001b[39m,\u001b[38;5;241m1\u001b[39m,\u001b[38;5;241m0\u001b[39m,\u001b[38;5;241m1\u001b[39m,\u001b[38;5;241m0\u001b[39m,\u001b[38;5;241m1\u001b[39m,\u001b[38;5;241m0\u001b[39m,\u001b[38;5;241m0\u001b[39m,\u001b[38;5;241m1\u001b[39m]\n\u001b[0;32m----> 4\u001b[0m img \u001b[38;5;241m=\u001b[39m \u001b[43mtutils\u001b[49m\u001b[38;5;241;43m.\u001b[39;49m\u001b[43mcreate_confusion_matrix\u001b[49m\u001b[43m(\u001b[49m\u001b[43mTP\u001b[49m\u001b[38;5;241;43m=\u001b[39;49m\u001b[38;5;241;43m5\u001b[39;49m\u001b[43m,\u001b[49m\u001b[43m \u001b[49m\u001b[43mTN\u001b[49m\u001b[38;5;241;43m=\u001b[39;49m\u001b[38;5;241;43m5\u001b[39;49m\u001b[43m,\u001b[49m\u001b[43m \u001b[49m\u001b[43mFP\u001b[49m\u001b[38;5;241;43m=\u001b[39;49m\u001b[38;5;241;43m0\u001b[39;49m\u001b[43m,\u001b[49m\u001b[43m \u001b[49m\u001b[43mFN\u001b[49m\u001b[38;5;241;43m=\u001b[39;49m\u001b[38;5;241;43m0\u001b[39;49m\u001b[43m,\u001b[49m\u001b[43m \u001b[49m\u001b[43mnormalize\u001b[49m\u001b[38;5;241;43m=\u001b[39;49m\u001b[38;5;28;43;01mFalse\u001b[39;49;00m\u001b[43m)\u001b[49m\n",
      "File \u001b[0;32m/net/hume.uio.no/uio/hume/student-u00/johanmkr/Documents/thesis/masterthesis/ML_CNN/train_utils.py:111\u001b[0m, in \u001b[0;36mcreate_confusion_matrix\u001b[0;34m(TP, TN, FP, FN, normalize)\u001b[0m\n\u001b[1;32m    109\u001b[0m img \u001b[38;5;241m=\u001b[39m ax\u001b[38;5;241m.\u001b[39mimshow(cf, cmap\u001b[38;5;241m=\u001b[39m\u001b[38;5;124m\"\u001b[39m\u001b[38;5;124mBlues\u001b[39m\u001b[38;5;124m\"\u001b[39m)\n\u001b[1;32m    110\u001b[0m return_image \u001b[38;5;241m=\u001b[39m fig\u001b[38;5;241m.\u001b[39mget_figure()\n\u001b[0;32m--> 111\u001b[0m \u001b[43mfig\u001b[49m\u001b[38;5;241;43m.\u001b[39;49m\u001b[43mclose\u001b[49m()\n\u001b[1;32m    112\u001b[0m \u001b[38;5;28;01mreturn\u001b[39;00m return_image\n",
      "\u001b[0;31mAttributeError\u001b[0m: 'Figure' object has no attribute 'close'"
     ]
    },
    {
     "data": {
      "image/png": "[encoded data removed]",
      "text/plain": [
       "<Figure size 640x480 with 1 Axes>"
      ]
     },
     "metadata": {},
     "output_type": "display_data"
    }
   ],
   "source": [
    "test = [0,0,0,0,1,1,1,1,1,0,1,0,1,0,0,0,0,0,1,1,1,1]\n",
    "pred = [1,0,0,1,0,1,0,1,0,1,0,0,0,1,1,0,1,0,1,0,0,1]\n",
    "\n",
    "img = tutils.create_confusion_matrix(TP=5, TN=5, FP=0, FN=0, normalize=False)\n"
   ]
  }
 ],
 "metadata": {
  "kernelspec": {
   "display_name": "torchenv",
   "language": "python",
   "name": "python3"
  },
  "language_info": {
   "codemirror_mode": {
    "name": "ipython",
    "version": 3
   },
   "file_extension": ".py",
   "mimetype": "text/x-python",
   "name": "python",
   "nbconvert_exporter": "python",
   "pygments_lexer": "ipython3",
   "version": "3.11.6"
  }
 },
 "nbformat": 4,
 "nbformat_minor": 2
}
