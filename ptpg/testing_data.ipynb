{
 "cells": [
  {
   "cell_type": "code",
   "execution_count": null,
   "metadata": {},
   "outputs": [],
   "source": [
    "import numpy as np\n",
    "import matplotlib.pyplot as plt \n",
    "import h5py\n",
    "from mayavi import mlab\n",
    "# import pyvista as pv\n",
    "# mlab.init_notebook()\n",
    "\n",
    "from mpl_toolkits.mplot3d import Axes3D"
   ]
  },
  {
   "cell_type": "code",
   "execution_count": null,
   "metadata": {},
   "outputs": [],
   "source": [
    "filename = \"data/lcdm_snap003_phi.h5\"\n",
    "\n",
    "h5_file = h5py.File(filename, \"r\")\n",
    "\n",
    "dataset = h5_file[\"data\"]\n",
    "\n",
    "data = dataset[()]\n",
    "\n",
    "print(np.shape(data))\n"
   ]
  },
  {
   "cell_type": "code",
   "execution_count": null,
   "metadata": {},
   "outputs": [],
   "source": [
    "# print(data[:,:,:,0].min())"
   ]
  },
  {
   "cell_type": "code",
   "execution_count": null,
   "metadata": {},
   "outputs": [],
   "source": [
    "# x, y = np.mgrid[-3:3:100j, -3:3:100j]\n",
    "# z = np.sin(x*y)\n",
    "\n",
    "# fig = plt.figure(figsize=(8,8))\n",
    "# ax = fig.add_subplot(111, projection=\"3d\")\n",
    "\n",
    "# # ax.plot_surface(x,y,z, cmap=\"viridis\")\n",
    "\n",
    "# ax.plot_trisurf(x.flatten(), y.flatten(), z.flatten(), cmap=\"viridis\")\n",
    "\n",
    "# plt.show()"
   ]
  },
  {
   "cell_type": "code",
   "execution_count": null,
   "metadata": {},
   "outputs": [],
   "source": [
    "# mlab.contour3d(data, colormap=\"viridis\")\n",
    "# mlab.show()\n",
    "\n",
    "\n",
    "fig = plt.figure(figsize=(8,8))\n",
    "ax = fig.add_subplot(111, projection=\"3d\")\n",
    "\n",
    "x, y, z, = np.meshgrid(range(64), range(64), range(64))\n",
    "\n",
    "ax.scatter(x.flatten(), y.flatten(), z.flatten(), c=data[:,:,:].flatten(), cmap=\"viridis\")"
   ]
  }
 ],
 "metadata": {
  "kernelspec": {
   "display_name": "Python 3",
   "language": "python",
   "name": "python3"
  },
  "language_info": {
   "codemirror_mode": {
    "name": "ipython",
    "version": 3
   },
   "file_extension": ".py",
   "mimetype": "text/x-python",
   "name": "python",
   "nbconvert_exporter": "python",
   "pygments_lexer": "ipython3",
   "version": "3.10.6"
  },
  "orig_nbformat": 4
 },
 "nbformat": 4,
 "nbformat_minor": 2
}
