{
 "cells": [
  {
   "cell_type": "code",
   "execution_count": null,
   "metadata": {},
   "outputs": [],
   "source": [
    "import numpy as np\n",
    "import matplotlib.pyplot as plt \n",
    "import h5py\n",
    "from mayavi import mlab\n",
    "import os\n",
    "# import pyvista as pv\n",
    "# mlab.init_notebook()\n",
    "\n",
    "from mpl_toolkits.mplot3d import Axes3D\n",
    "\n",
    "DataPath = os.path.abspath(\"\").replace(\"Summer-Sandbox23/ptpg\", \"NbodySimulation/gevolution-1.2/output/\")\n",
    "newtonPath = DataPath+\"newton/\"\n",
    "grPath = DataPath+\"gr/\"\n"
   ]
  },
  {
   "cell_type": "code",
   "execution_count": null,
   "metadata": {},
   "outputs": [],
   "source": [
    "# List files in output\n",
    "newtonFiles = os.listdir(newtonPath)\n",
    "grFiles = os.listdir(grPath)\n",
    "\n",
    "print(newtonFiles)\n",
    "print(grFiles)\n",
    "\n"
   ]
  },
  {
   "cell_type": "code",
   "execution_count": null,
   "metadata": {},
   "outputs": [],
   "source": [
    "# Extract datasets with .h5 formats\n",
    "def Extracth5Specifics(filename:str) -> np.ndarray:\n",
    "    h5File = h5py.File(filename, \"r\")\n",
    "    dataset = h5File[\"data\"][()]\n",
    "    h5File.close()\n",
    "    return dataset\n",
    "\n",
    "def Extracth5Data(abspath:str) -> np.ndarray or list[np.ndarray]:\n",
    "    Files = os.listdir(abspath)\n",
    "    h5Files = [abspath+name for name in Files if \".h5\" in name]\n",
    "    if len(h5Files) > 1:\n",
    "        datasets = []\n",
    "        for filename in h5Files:\n",
    "            datasets.append(Extracth5Specifics(filename))\n",
    "        return datasets\n",
    "    else:\n",
    "        return Extracth5Specifics(h5Files[0])\n",
    "\n",
    "newtonCube = Extracth5Data(newtonPath)\n",
    "grCube = Extracth5Data(grPath)\n",
    "print(f\"Dimension of newton cube: {np.shape(newtonCube)}\")\n",
    "print(f\"Dimension of gr cube: {np.shape(grCube)}\")\n"
   ]
  },
  {
   "cell_type": "code",
   "execution_count": null,
   "metadata": {},
   "outputs": [],
   "source": [
    "# filename = DataPath+\"testrun/lcdm_snap003_hij.h5\"\n",
    "\n",
    "# h5_file = h5py.File(filename, \"r\")\n",
    "\n",
    "# dataset = h5_file[\"data\"]\n",
    "\n",
    "# data = dataset[()]\n",
    "\n",
    "# print(np.shape(data))\n"
   ]
  },
  {
   "cell_type": "code",
   "execution_count": null,
   "metadata": {},
   "outputs": [],
   "source": [
    "# print(data[:,:,:,0].min())"
   ]
  },
  {
   "cell_type": "code",
   "execution_count": null,
   "metadata": {},
   "outputs": [],
   "source": [
    "# x, y = np.mgrid[-3:3:100j, -3:3:100j]\n",
    "# z = np.sin(x*y)\n",
    "\n",
    "# fig = plt.figure(figsize=(8,8))\n",
    "# ax = fig.add_subplot(111, projection=\"3d\")\n",
    "\n",
    "# # ax.plot_surface(x,y,z, cmap=\"viridis\")\n",
    "\n",
    "# ax.plot_trisurf(x.flatten(), y.flatten(), z.flatten(), cmap=\"viridis\")\n",
    "\n",
    "# plt.show()"
   ]
  },
  {
   "cell_type": "code",
   "execution_count": null,
   "metadata": {},
   "outputs": [],
   "source": [
    "# mlab.contour3d(data, colormap=\"viridis\")\n",
    "# mlab.show()\n",
    "\n",
    "\n",
    "# fig = plt.figure(figsize=(20,8))\n",
    "\n",
    "# ncols, nrows = 3,2\n",
    "# x, y, z, = np.meshgrid(range(64), range(64), range(64))\n",
    "\n",
    "# for i in range(1,ncols*nrows+1):\n",
    "#         ax = fig.add_subplot(nrows, ncols ,i, projection=\"3d\")\n",
    "#         im = ax.scatter(x.flatten(), y.flatten(), z.flatten(), c=data[:,:,:,i-1].flatten(), cmap=\"viridis\")\n",
    "#         ax.set_title(f\"{i}\")\n",
    "# cbar = fig.colorbar(im, ax=fig.get_axes(), orientation=\"vertical\")\n",
    "\n",
    "\n"
   ]
  }
 ],
 "metadata": {
  "kernelspec": {
   "display_name": "Python 3",
   "language": "python",
   "name": "python3"
  },
  "language_info": {
   "codemirror_mode": {
    "name": "ipython",
    "version": 3
   },
   "file_extension": ".py",
   "mimetype": "text/x-python",
   "name": "python",
   "nbconvert_exporter": "python",
   "pygments_lexer": "ipython3",
   "version": "3.10.6"
  },
  "orig_nbformat": 4
 },
 "nbformat": 4,
 "nbformat_minor": 2
}
