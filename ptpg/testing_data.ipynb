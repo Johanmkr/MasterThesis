{
 "cells": [
  {
   "cell_type": "code",
   "execution_count": null,
   "metadata": {},
   "outputs": [],
   "source": [
    "import numpy as np\n",
    "import matplotlib.pyplot as plt \n",
    "import h5py\n",
    "from mayavi import mlab\n",
    "import os\n",
    "\n",
    "# torch stuff\n",
    "import torch\n",
    "from torch.utils.data import Dataset, DataLoader\n",
    "\n",
    "# for visualisation loop:\n",
    "from matplotlib.animation import ArtistAnimation\n",
    "from matplotlib import colors\n",
    "from IPython.display import HTML\n",
    "\n",
    "plt.rcParams[\"image.origin\"] = \"lower\" \n",
    "plt.rcParams[\"image.cmap\"] = \"viridis\"\n",
    "\n",
    "# import pyvista as pv\n",
    "# mlab.init_notebook()\n",
    "\n",
    "from mpl_toolkits.mplot3d import Axes3D\n",
    "\n",
    "DataPath = os.path.abspath(\"\").replace(\"Summer-Sandbox23/ptpg\", \"NbodySimulation/gevolution-1.2/output/\")\n",
    "newtonPath = DataPath+\"newton/\"\n",
    "grPath = DataPath+\"gr/\"\n"
   ]
  },
  {
   "cell_type": "code",
   "execution_count": null,
   "metadata": {},
   "outputs": [],
   "source": [
    "# List files in output\n",
    "newtonFiles = os.listdir(newtonPath)\n",
    "grFiles = os.listdir(grPath)\n",
    "\n",
    "print(newtonFiles)\n",
    "print(grFiles)\n",
    "\n"
   ]
  },
  {
   "cell_type": "code",
   "execution_count": null,
   "metadata": {},
   "outputs": [],
   "source": [
    "# Extract datasets with .h5 formats\n",
    "def Extracth5Specifics(filename:str) -> np.ndarray:\n",
    "    h5File = h5py.File(filename, \"r\")\n",
    "    dataset = h5File[\"data\"][()]\n",
    "    h5File.close()\n",
    "    return dataset\n",
    "\n",
    "def Extracth5Data(abspath:str) -> np.ndarray or list[np.ndarray]:\n",
    "    Files = os.listdir(abspath)\n",
    "    h5Files = [abspath+name for name in Files if \".h5\" in name]\n",
    "    if len(h5Files) > 1:\n",
    "        datasets = []\n",
    "        for filename in h5Files:\n",
    "            datasets.append(Extracth5Specifics(filename))\n",
    "        return datasets\n",
    "    else:\n",
    "        return Extracth5Specifics(h5Files[0])\n",
    "\n",
    "newtonCube = Extracth5Data(newtonPath)\n",
    "grCube = Extracth5Data(grPath)\n",
    "print(f\"Dimension of newton cube: {np.shape(newtonCube)}\")\n",
    "print(f\"Dimension of gr cube: {np.shape(grCube)}\")\n"
   ]
  },
  {
   "cell_type": "code",
   "execution_count": null,
   "metadata": {},
   "outputs": [],
   "source": [
    "def SliceDataCube(data:np.ndarray, axis:int, index:int or list or tuple) -> np.ndarray:\n",
    "    slices = [slice(None)] * data.ndim\n",
    "    if isinstance(index, int):\n",
    "        slices[axis] = index\n",
    "    else:\n",
    "        slices[axis] = slice(index[0], index[1])\n",
    "    return data[tuple(slices)]"
   ]
  },
  {
   "cell_type": "code",
   "execution_count": null,
   "metadata": {},
   "outputs": [],
   "source": [
    "print(np.shape(SliceDataCube(newtonCube, axis=1, index=1)))"
   ]
  },
  {
   "cell_type": "code",
   "execution_count": null,
   "metadata": {},
   "outputs": [],
   "source": [
    "def VisualiseSlice(cube:np.ndarray, name:str=None, axis:int=None, difference:bool=False):\n",
    "    fig, ax = plt.subplots(figsize=(7,7))\n",
    "    ims = []\n",
    "    axis = axis if axis is not None else 0\n",
    "    for i in range(cube.shape[axis]):\n",
    "        image = SliceDataCube(cube, axis, i)\n",
    "        temp_min = np.percentile(image, 1)\n",
    "        temp_max = np.percentile(image, 99)\n",
    "        if not difference:\n",
    "            temp_norm = colors.TwoSlopeNorm(vmin=temp_min, vcenter=0, vmax=temp_max)\n",
    "            temp = [ax.imshow(image, norm=temp_norm)]\n",
    "        else:\n",
    "            temp = [ax.imshow(image, vmin=temp_min, vmax=temp_max)]\n",
    "        ims.append(temp)\n",
    "    # name = f\"{cube=}\".split(\"=\")[0]\n",
    "    ax.set_title(f\"Visualising {name if name is not None else ''} across axis: {axis}\")\n",
    "    anim = ArtistAnimation(fig, ims, interval=50, blit=True)\n",
    "    plt.close(fig)\n",
    "    return anim\n",
    "\n",
    "def VisualiseDifference(cube1:np.ndarray, cube2:np.ndarray, axis:int=None, absolute:bool=True):\n",
    "    cube = np.abs(cube1-cube2) if absolute else cube1-cube2\n",
    "    return VisualiseSlice(cube, name=\"difference\", axis=axis, difference=True)\n"
   ]
  },
  {
   "cell_type": "code",
   "execution_count": null,
   "metadata": {},
   "outputs": [],
   "source": [
    "newtonAnim = VisualiseSlice(grCube, name=\"gr\", axis=0)\n",
    "HTML(newtonAnim.to_jshtml())\n"
   ]
  },
  {
   "cell_type": "code",
   "execution_count": null,
   "metadata": {},
   "outputs": [],
   "source": [
    "diffAnim = VisualiseDifference(newtonCube, grCube, axis=0)\n",
    "HTML(diffAnim.to_jshtml())"
   ]
  },
  {
   "cell_type": "code",
   "execution_count": null,
   "metadata": {},
   "outputs": [],
   "source": [
    "# Custom class\n",
    "\n",
    "class TestCubes(Dataset):\n",
    "    def __init__(self, newtonCube, grCube, stride=1):\n",
    "        self.newtonCube = newtonCube\n",
    "        self.grCube = grCube\n",
    "        self.length = self.__len__()\n",
    "        self.halflength = int(self.length/2.)\n",
    "        self.stride=stride\n",
    "\n",
    "    def __len__(self):\n",
    "        newtonShape = self.newtonCube.shape\n",
    "        grShape = self.grCube.shape\n",
    "        newtonLength = 0\n",
    "        grLength = 0\n",
    "        for i in range(len(newtonShape)):\n",
    "            newtonLength += newtonShape[i]\n",
    "            grLength += grShape[i]\n",
    "        return int((newtonLength+grLength)/self.stride)\n",
    "\n",
    "    def getSlice(self, data:np.ndarray, axis:int, index:int or list or tuple):\n",
    "        slices = [slice(None)] * data.ndim\n",
    "        if isinstance(index, int):\n",
    "            slices[axis] = index\n",
    "        else:\n",
    "            slices[axis] = slice(index[0], index[1])\n",
    "        return data[tuple(slices)]\n",
    "\n",
    "    def __getitem__(self, idx):\n",
    "        NEWTON = idx < self.halflength\n",
    "        idx = idx-self.halflength\n",
    "        axis = idx // self.newtonCube.shape[0] #only works for cubic cubes and stride 1 for now, should be easy to improve\n",
    "        index = idx % self.newtonCube.shape[0]\n",
    "        if NEWTON:\n",
    "            slice_data = self.getSlice(self, self.newtonCube, axis=axis, index=index)\n",
    "            label = \"newton\"\n",
    "        else:\n",
    "            slice_data = self.getSlice(self, self.grCube, axis=axis, index=index)\n",
    "            label = \"gr\"\n",
    "        return torch.tensor(slice_data), label\n",
    "\n"
   ]
  },
  {
   "cell_type": "code",
   "execution_count": null,
   "metadata": {},
   "outputs": [],
   "source": [
    "# batch_size = 1\n",
    "# train_dataloader = DataLoader()"
   ]
  }
 ],
 "metadata": {
  "kernelspec": {
   "display_name": "Python 3",
   "language": "python",
   "name": "python3"
  },
  "language_info": {
   "codemirror_mode": {
    "name": "ipython",
    "version": 3
   },
   "file_extension": ".py",
   "mimetype": "text/x-python",
   "name": "python",
   "nbconvert_exporter": "python",
   "pygments_lexer": "ipython3",
   "version": "3.10.6"
  },
  "orig_nbformat": 4
 },
 "nbformat": 4,
 "nbformat_minor": 2
}
